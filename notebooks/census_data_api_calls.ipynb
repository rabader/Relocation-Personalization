{
 "cells": [
  {
   "cell_type": "code",
   "execution_count": 1,
   "metadata": {},
   "outputs": [],
   "source": [
    "import requests\n",
    "import json\n",
    "import ast\n",
    "import pandas as pd"
   ]
  },
  {
   "cell_type": "code",
   "execution_count": 2,
   "metadata": {},
   "outputs": [],
   "source": [
    "import sys\n",
    "sys.path.insert(1, '../')\n",
    "from utils import census_bureau_api as cba"
   ]
  },
  {
   "cell_type": "code",
   "execution_count": 69,
   "metadata": {},
   "outputs": [],
   "source": [
    "# Inputs:\n",
    "dataset = \"saipe\"\n",
    "state = \"*\""
   ]
  },
  {
   "cell_type": "code",
   "execution_count": 71,
   "metadata": {},
   "outputs": [],
   "source": [
    "# for everything except cps data:\n",
    "for year in [str(x) for x in range(2016,2022)]:  \n",
    "    resp = cba.send_and_process_request(dataset=dataset,year=year,state=state)\n",
    "    df = cba.process_response(resp)\n",
    "    df.to_csv(f\"../data/raw/{dataset}_{year}.csv.gz\")"
   ]
  },
  {
   "cell_type": "code",
   "execution_count": 1,
   "metadata": {},
   "outputs": [],
   "source": [
    "# # cps data by state:\n",
    "# for year in [str(x) for x in range(2016,2022)]:  \n",
    "#     df = pd.DataFrame()\n",
    "#     for state in [str(\"{:02d}\".format(x)) for x in range(1,52)]:\n",
    "#         resp = cba.send_and_process_request(dataset=dataset,year=year,state=state)\n",
    "#         df = pd.concat([df,cba.process_response(resp)],ignore_index=True)\n",
    "#     df.to_csv(f\"../data/raw/{dataset}_{year}.csv.gz\")"
   ]
  }
 ],
 "metadata": {
  "kernelspec": {
   "display_name": "Python 3.10.6 ('siads699')",
   "language": "python",
   "name": "python3"
  },
  "language_info": {
   "codemirror_mode": {
    "name": "ipython",
    "version": 3
   },
   "file_extension": ".py",
   "mimetype": "text/x-python",
   "name": "python",
   "nbconvert_exporter": "python",
   "pygments_lexer": "ipython3",
   "version": "3.10.6"
  },
  "orig_nbformat": 4,
  "vscode": {
   "interpreter": {
    "hash": "3ba4a1a14d1c70f4cd375c9518585cecceb38d68b76c902d8a0c883195138105"
   }
  }
 },
 "nbformat": 4,
 "nbformat_minor": 2
}

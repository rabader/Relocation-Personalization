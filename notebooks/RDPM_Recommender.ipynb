{
 "cells": [
  {
   "cell_type": "markdown",
   "id": "8d0d3b93",
   "metadata": {},
   "source": [
    "# Relocation Destination Personalization Machination Recommendation"
   ]
  },
  {
   "cell_type": "code",
   "execution_count": null,
   "id": "6f8bf227",
   "metadata": {},
   "outputs": [],
   "source": [
    "import pandas as pd\n",
    "import numpy as np\n",
    "import matplotlib.pyplot as plt\n",
    "import seaborn as sns\n",
    "import plotly.express as px\n",
    "%matplotlib inline"
   ]
  },
  {
   "cell_type": "markdown",
   "id": "26ef65cd",
   "metadata": {},
   "source": [
    "<div class=\"alert alert-block alert-warning\">\n",
    "<b>Notice</b> <br>\n",
    "    Make sure your questionnaire Excel file is in the same folder as this Jupyter notebook, otherwise make sure the read_excel directory is correct.</div>"
   ]
  },
  {
   "cell_type": "code",
   "execution_count": null,
   "id": "d7aed27f",
   "metadata": {},
   "outputs": [],
   "source": [
    "# import your quiz results\n",
    "quiz = pd.read_excel(\"RDPM_Recommender.xlsx\", sheet_name=\"Upload\")"
   ]
  },
  {
   "cell_type": "markdown",
   "id": "3a428607",
   "metadata": {},
   "source": [
    "#### Feel free to scroll through the code or click here on [Results](#Results) to skip to your results and some fancy visualizations."
   ]
  },
  {
   "cell_type": "markdown",
   "id": "3197ded5",
   "metadata": {},
   "source": [
    "Much of this code relies on 'FIPS' [(Federal Information Processing Standards)](https://www.nist.gov/itl/fips-general-information), which is a NIST [(National Institute of Standards and Technology)](https://www.nist.gov/) standard of identifying counties within the USA. For simplicity, we use FIPS as the unique indentifier whenever possible in this project."
   ]
  },
  {
   "cell_type": "code",
   "execution_count": null,
   "id": "2e7912c1",
   "metadata": {},
   "outputs": [],
   "source": [
    "# get county data and count data rows\n",
    "github_url = \"https://raw.githubusercontent.com/rabader/relocation-personalization/main/data/\"\n",
    "\n",
    "FIPS_d = pd.read_csv(github_url + \"processed/FIPS_ref.csv\").set_index('FIPS')\n",
    "rel_d = pd.read_csv(github_url + \"processed/Religion_dataset.csv\").set_index('FIPS')\n",
    "sd_d = pd.read_csv(github_url + \"interim/School_2018_imputed.csv\")\n",
    "ter_d = pd.read_csv(github_url + \"processed/Terrain_dataset.csv\").set_index('FIPS')\n",
    "wth_d = pd.read_csv(github_url + \"processed/Weather_etc_State_dataset.csv\")\n",
    "acs_d = pd.read_csv(github_url + \"interim/ACS_2020_imputed.csv\").set_index('FIPS')\n",
    "hth_d = pd.read_csv(github_url + \"interim/health_imputed.csv\").set_index('FIPS')\n",
    "fbi_d = pd.read_csv(github_url + \"interim/fbi_imputed.csv\").set_index('FIPS')\n",
    "pol_d = pd.read_csv(github_url + \"processed/Politics.csv\").set_index('FIPS')\n",
    "tax_d = pd.read_csv(github_url + \"processed/Taxes.csv\")\n",
    "\n",
    "print(\"FIPS: \" + str(len(FIPS_d)), '\\n', \"Religion: \" + str(len(rel_d)), '\\n', \"School District: \" + str(len(sd_d)),\n",
    "    '\\n', \"Terrain: \" + str(len(ter_d)), '\\n', \"Weather: \" + str(len(wth_d)), '\\n', \"Census: \" + str(len(acs_d)),\n",
    "      '\\n', \"Health: \" + str(len(hth_d)), '\\n', \"Crime: \" + str(len(fbi_d)), '\\n', \"Politics: \" + str(len(pol_d)),\n",
    "     '\\n', \"Taxes: \" + str(len(tax_d)))"
   ]
  },
  {
   "cell_type": "code",
   "execution_count": null,
   "id": "56da92bf",
   "metadata": {},
   "outputs": [],
   "source": [
    "# remove Alaska, Puerto Rico, and DC\n",
    "FIPS_d = FIPS_d[(FIPS_d['State']!='Alaska') & (FIPS_d['State']!='Puerto Rico') &\n",
    "                (FIPS_d['State']!= 'District Of Columbia')]"
   ]
  },
  {
   "cell_type": "code",
   "execution_count": null,
   "id": "9ce56601",
   "metadata": {},
   "outputs": [],
   "source": [
    "# include only counties that are commonly included in all datasets\n",
    "print(\"Starting county count: \" + str(len(FIPS_d.index)))\n",
    "FIPS_d = FIPS_d.filter(items = fbi_d.index.unique(), axis=0) # crime\n",
    "FIPS_d = FIPS_d.filter(items = ter_d.index.unique(), axis=0) # terrain\n",
    "FIPS_d = FIPS_d.filter(items = rel_d.index.unique(), axis=0) # religion\n",
    "FIPS_d = FIPS_d.filter(items = hth_d.index.unique(), axis=0) # health\n",
    "print(\"Final county count: \" + str(len(FIPS_d.index)))"
   ]
  },
  {
   "cell_type": "code",
   "execution_count": null,
   "id": "c3a0c828",
   "metadata": {},
   "outputs": [],
   "source": [
    "# add 'Scores' column with 0 penalty points to each dataset to accumulate penalty points by topic\n",
    "dfs = [FIPS_d, rel_d, sd_d, ter_d, wth_d, acs_d, hth_d, fbi_d, pol_d, tax_d]\n",
    "\n",
    "for df in dfs:\n",
    "    df['Scores'] = 0 # create empty Scores column for all data"
   ]
  },
  {
   "cell_type": "code",
   "execution_count": null,
   "id": "5dd8ffb1",
   "metadata": {},
   "outputs": [],
   "source": [
    "# create empty importance list for all data\n",
    "dfs_str = ['FIPS_d', 'rel_d', 'sd_d', 'ter_d', 'wth_d', 'acs_d', 'hth_d', 'fbi_d', 'pol_d', 'tax_d']\n",
    "\n",
    "for df in dfs_str:\n",
    "    exec(df+'_imp = []')"
   ]
  },
  {
   "cell_type": "markdown",
   "id": "b643a952",
   "metadata": {},
   "source": [
    "<div class=\"alert alert-block alert-info\">\n",
    "    <b>Function description: </b><i>grader</i><br>\n",
    "The \"grader\" method below tests any question based on the 5-point scale of 1-5 which is matched with \"Much less than average\", \"Less than average\", \"About average\", \"More than average\", and \"Much more than average\" respectively.\n",
    "<br><br>\n",
    "It has three arguments:<br>\n",
    "1) the current topic/dataframe being analyzed<br>\n",
    "2) the row where the questionnaire response is recorded in the hidden sheet called \"Upload\"<br>\n",
    "3) the column of the current dataframe that is being compared<br>\n",
    "<br>\n",
    "The importance score (imp_score) is recorded from the third column of the \"Upload\" sheet.\n",
    "<br><br>\n",
    "Depending on if the user response has \"At least\", \"At most\", or otherwise in the \"<=>\" column, the response is rated differently. score_series is a series result of finding the difference between the user answer of 1-5 versus each county's value of 1-5. If the user chose \"At least\", the user value (e.g. 5) is subtracted by each county's value (e.g. 2). The result (3 in this case) is larger than 0 (a max function is used to remove negatives) so the result remains. The result is squared (3**2=9) and then multiplied by the importance score of 0-10. For \"At most\", the positions in the subtraction is reversed. For \"Equal to\" or blank, the result is the absolute difference between values, squared, and multiplied by the importance score.<br><br>\n",
    "The required arguments are:<br>\n",
    "1) 'dataframe' (e.g. pol_d)<br>\n",
    "2) the 'response row' number (e.g. 4) that is in the hidden \"Upload\" sheet in the Excel questionnaire that holds the questionnaire responses in a more computer readable format<br>\n",
    "3) the column name within the dataframe that holds the 'actual' values for each county\n",
    "</div>"
   ]
  },
  {
   "cell_type": "code",
   "execution_count": null,
   "id": "66098312",
   "metadata": {},
   "outputs": [],
   "source": [
    "def grader(df, response_row, actual):\n",
    "    \n",
    "    imp_score = quiz.iloc[response_row,3] # importance score of this question\n",
    "    \n",
    "    if quiz.iloc[response_row,1] == \"At least\":\n",
    "        score_series = df[actual].apply(lambda x: max(quiz.iloc[response_row,2] - x, 0)**2 * imp_score)\n",
    "    elif quiz.iloc[response_row,1] == \"At most:\":\n",
    "        score_series = df[actual].apply(lambda x: max(x - quiz.iloc[response_row,2], 0)**2 * imp_score)\n",
    "    else: \n",
    "        score_series = abs(quiz.iloc[response_row,2] - df[actual])**2 * imp_score\n",
    "    \n",
    "    return score_series, imp_score"
   ]
  },
  {
   "cell_type": "markdown",
   "id": "049f2cf9",
   "metadata": {},
   "source": [
    "<div class=\"alert alert-block alert-info\">\n",
    "    <b>Function description: </b><i>most_recent</i><br>\n",
    "Some datasets have data from multiple years. Sometimes the year of the most recent data does not match throughout the dataset. The function below retrieves only the most recent year of information for each county for grading against the questionnaire.<br>\n",
    "The required argument is:<br>\n",
    "1) 'dataframe' (e.g. pol_d)\n",
    "</div>"
   ]
  },
  {
   "cell_type": "code",
   "execution_count": null,
   "id": "591dbb70",
   "metadata": {},
   "outputs": [],
   "source": [
    "# create function that uses the most recent year in the dataset for questionnaire comparison\n",
    "def most_recent(df):\n",
    "    df_all = df.copy()\n",
    "    df = df.reset_index()\n",
    "    df_recent = df.copy()\n",
    "    df_recent = df_recent.groupby(['FIPS'])['Year'].max() # get most recent data per county\n",
    "    df_recent = df_recent.reset_index()\n",
    "    df_recent = pd.DataFrame(df_recent, columns=['FIPS','Year']) # make df of each FIPS and most recent year\n",
    "    df = pd.merge(df_recent, df, left_on=['FIPS','Year'], right_on=['FIPS','Year'], how='left') # filter df to match\n",
    "    df = df.set_index('FIPS')\n",
    "    return df_all, df"
   ]
  },
  {
   "cell_type": "markdown",
   "id": "d466dfc7",
   "metadata": {},
   "source": [
    "## Religion"
   ]
  },
  {
   "cell_type": "code",
   "execution_count": null,
   "id": "d7d3ac24",
   "metadata": {},
   "outputs": [],
   "source": [
    "# Rel) blanks in this dataset are equal to zero\n",
    "rel_d = rel_d.fillna(0)"
   ]
  },
  {
   "cell_type": "code",
   "execution_count": null,
   "id": "868aeaa9",
   "metadata": {},
   "outputs": [],
   "source": [
    "# Rel-1) I prefer the % of the population adhering to any religion to be:\n",
    "score, imp_score = grader(rel_d, 47, 'All Religious Adherence Rate D') \n",
    "rel_d['Scores'] += score \n",
    "rel_d_imp.append(imp_score)"
   ]
  },
  {
   "cell_type": "markdown",
   "id": "b7dbe01c",
   "metadata": {},
   "source": [
    "<div class=\"alert alert-block alert-info\">\n",
    "<b>Explanation:</b><br>\n",
    "The question below (Rel-2) is one of a few based on a percentage instead of the 5-point scale like most of the other questions. In the 5-point scale questions, the largest possible difference between user and county values is four (e.g. 5-1=4). To normalize a percentage (100 point) scale, the difference is divided by 25. For example, if 0% of a religious group is found in a county, then (100-0)/25 = 4, which is the largest possible difference in the 5-point scale questions. The remaining value of 4 is also then squared and multiplied by the importance score.\n",
    "</div>"
   ]
  },
  {
   "cell_type": "code",
   "execution_count": null,
   "id": "5a53e419",
   "metadata": {},
   "outputs": [],
   "source": [
    "# Rel-2) I prefer there to be a significant presence of this religious group:\n",
    "if quiz.iloc[48,2] != 0: # if user gave an answer\n",
    "    rel2_response = rel_d.loc[:,str(quiz.iloc[48,2])]\n",
    "    rel_d['Scores'] += (((100 - rel2_response)/25)**2) * quiz.iloc[48,3]\n",
    "rel_d_imp.append(quiz.iloc[48,3]) # imp_score"
   ]
  },
  {
   "cell_type": "code",
   "execution_count": null,
   "id": "75f37bed",
   "metadata": {},
   "outputs": [],
   "source": [
    "# add rel_d scores to combined FIPS_d score total\n",
    "FIPS_d['Scores'] = FIPS_d['Scores'].add(rel_d['Scores'], fill_value=0)"
   ]
  },
  {
   "cell_type": "markdown",
   "id": "c2e22a29",
   "metadata": {},
   "source": [
    "## School District"
   ]
  },
  {
   "cell_type": "code",
   "execution_count": null,
   "id": "78f99dd1",
   "metadata": {},
   "outputs": [],
   "source": [
    "# SD) first questions\n",
    "sd_cats = ['SchoolDigger Number of Stars Elementary', 'SchoolDigger Number of Stars Middle', \n",
    "          'SchoolDigger Number of Stars High', 'Student/Teacher Ratio D', 'Number All Students D']\n",
    "\n",
    "start_loc = 35 # start_loc is is the starting row for the questionnaire answer sheet\n",
    "for sd_cat in sd_cats:\n",
    "    score, imp_score = grader(sd_d, start_loc + sd_cats.index(sd_cat), sd_cat)\n",
    "    sd_d['Scores'] += score\n",
    "    sd_d_imp.append(imp_score)"
   ]
  },
  {
   "cell_type": "code",
   "execution_count": null,
   "id": "37c29026",
   "metadata": {},
   "outputs": [],
   "source": [
    "# SD-6) For racial distribution, I prefer there to be AT LEAST this percentage of each race:\n",
    "races = ['% Asian students', '% Black students', '% Hawaiian Native/Pacific Islander students', '% Hispanic students',\n",
    "           '% American Indian/Alaska Native students', '% students with Two or More Races', '% White students']\n",
    "\n",
    "for race in races:\n",
    "    sd_d['Scores'] += sd_d[race].apply(lambda x: max(((quiz.iloc[races.index(race)+40,2] - x)/25)**2,0) * quiz.iloc[46,3])\n",
    "sd_d_imp.append(imp_score)"
   ]
  },
  {
   "cell_type": "markdown",
   "id": "6fcc4016",
   "metadata": {},
   "source": [
    "<div class=\"alert alert-block alert-info\">\n",
    "<b>Explanation:</b><br>\n",
    "There are often instances of multiple school districts being present in the same county. We decided to assign the score of the least penalized school district within each county to each county. Our logic is that if a user had an option of which school district to choose and cared enough to check school ratings, they would lean towards finding a home within the superior school district. The code assigns the least penalized school district to the county.\n",
    "</div>"
   ]
  },
  {
   "cell_type": "code",
   "execution_count": null,
   "id": "374fee38",
   "metadata": {},
   "outputs": [],
   "source": [
    "# SD) get lowest penalty score district for each county, reset series to dataframe, reset index\n",
    "sd_d_grouped = sd_d.groupby(['County','State'])['Scores'].min().to_frame().reset_index() # get district with lowest penalty"
   ]
  },
  {
   "cell_type": "markdown",
   "id": "f8324728",
   "metadata": {},
   "source": [
    "<div class=\"alert alert-block alert-info\">\n",
    "<b>Explanation:</b><br>\n",
    "This dataset is one of a few that do not have FIPS scores assigned as an index, so score had to be added to the the cumulative FIPS_d dataset through a merge instead of addition.\n",
    "</div>"
   ]
  },
  {
   "cell_type": "code",
   "execution_count": null,
   "id": "b6602fe5",
   "metadata": {},
   "outputs": [],
   "source": [
    "# SD) add grouped SD data to FIPS Scores through join\n",
    "FIPS_d = FIPS_d.reset_index()\n",
    "sd_d_scores = sd_d_grouped[['County','State','Scores']].rename({'Scores':'sd_Scores'}, axis='columns')\n",
    "FIPS_d = pd.merge(FIPS_d, sd_d_scores, left_on=['County','State'], right_on=['County','State'], how='left')\n",
    "FIPS_d['sd_Scores'] = FIPS_d['sd_Scores'].fillna(FIPS_d['sd_Scores'].mean()) # give mean penalty to non-matching districts\n",
    "FIPS_d['Scores'] += FIPS_d['sd_Scores'] # add SD points to cumulative points\n",
    "del FIPS_d['sd_Scores']\n",
    "FIPS_d = FIPS_d.set_index('FIPS')"
   ]
  },
  {
   "cell_type": "markdown",
   "id": "3f09fb8e",
   "metadata": {},
   "source": [
    "## Terrain"
   ]
  },
  {
   "cell_type": "code",
   "execution_count": null,
   "id": "78033a52",
   "metadata": {},
   "outputs": [],
   "source": [
    "# test against only the most recent completed year but keep entirity for time series analysis\n",
    "ter_d_all, ter_d = most_recent(ter_d)"
   ]
  },
  {
   "cell_type": "code",
   "execution_count": null,
   "id": "8c2d6844",
   "metadata": {},
   "outputs": [],
   "source": [
    "# Ter) test against only the most recent completed year but keep entirity for time series analysis\n",
    "ter_d_all = ter_d.copy()\n",
    "ter_d = ter_d_all[ter_d['Year']==2011]"
   ]
  },
  {
   "cell_type": "code",
   "execution_count": null,
   "id": "b55366a2",
   "metadata": {},
   "outputs": [],
   "source": [
    "# Ter-1) For terrain, I prefer there to be AT LEAST this percentage of each terrain:\n",
    "terrains = ['Big city', 'Farmland', 'Forests', 'Houses with lots of land', 'Open fields', 'Open water', \n",
    "            'Perennial ice/snow', 'Rock/Sand/Clay', 'Suburbia', 'Wetlands']\n",
    "\n",
    "for terrain in terrains:\n",
    "    ter_d['Scores'] += ter_d[terrain].apply(\n",
    "        lambda x: max(((quiz.iloc[terrains.index(terrain)+14,2] - x)/25)**2,0) * quiz.iloc[terrains.index(terrain)+14,3])\n",
    "ter_d_imp.append(quiz.iloc[terrains.index(terrain)+14,3])"
   ]
  },
  {
   "cell_type": "code",
   "execution_count": null,
   "id": "84178bbb",
   "metadata": {},
   "outputs": [],
   "source": [
    "# Ter) add ter_d scores to FIPS_d score total\n",
    "FIPS_d['Scores'] = FIPS_d['Scores'].add(ter_d['Scores'], fill_value=0)"
   ]
  },
  {
   "cell_type": "markdown",
   "id": "7e557a41",
   "metadata": {},
   "source": [
    "## State Level Weather"
   ]
  },
  {
   "cell_type": "code",
   "execution_count": null,
   "id": "12233549",
   "metadata": {},
   "outputs": [],
   "source": [
    "# Wth) first questions\n",
    "wth_cats = ['Winter Avg temp (F) D', 'Summer Avg temp (F) D', 'Avg Yearly Rainfall (in) D', 'Avg Yearly Snowfall (in) D',\n",
    "          'Avg Hours Sunshine Daily D', 'Avg Clear Days D', 'Avg Days with Snow D']\n",
    "\n",
    "start_loc = 28\n",
    "for wth_cat in wth_cats:\n",
    "    score, imp_score = grader(wth_d, start_loc + wth_cats.index(wth_cat), wth_cat)\n",
    "    wth_d['Scores'] += score\n",
    "    wth_d_imp.append(imp_score)"
   ]
  },
  {
   "cell_type": "code",
   "execution_count": null,
   "id": "cf32d96e",
   "metadata": {},
   "outputs": [],
   "source": [
    "# Wth) add state Wth data to FIPS Scores through join\n",
    "FIPS_d = FIPS_d.reset_index()\n",
    "wth_d_scores = wth_d[['State','Scores']].rename({'Scores':'wth_Scores'}, axis='columns')\n",
    "FIPS_d = pd.merge(FIPS_d, wth_d_scores, left_on='State', right_on='State', how='left')\n",
    "FIPS_d['Scores'] += FIPS_d['wth_Scores']\n",
    "del FIPS_d['wth_Scores']\n",
    "FIPS_d = FIPS_d.set_index('FIPS')"
   ]
  },
  {
   "cell_type": "markdown",
   "id": "c7d7cda8",
   "metadata": {},
   "source": [
    "## Census"
   ]
  },
  {
   "cell_type": "code",
   "execution_count": null,
   "id": "1190b433",
   "metadata": {},
   "outputs": [],
   "source": [
    "# ACS) first questions\n",
    "acs_cats = ['% Pop Density D', '% Children Under 10 D', '% Children 10 and Older D', '% Couples that are Same-Sex D',\n",
    "           '% Population Over 25 with at Least a Bachelor Degree D', \n",
    "           '% Civilian Population 18 Years and Over that is a Veteran D',\n",
    "           '% Foreign Born D']\n",
    "\n",
    "start_loc = 0\n",
    "for acs_cat in acs_cats:\n",
    "    score, imp_score = grader(acs_d, start_loc + acs_cats.index(acs_cat), acs_cat)\n",
    "    acs_d['Scores'] += score\n",
    "    acs_d_imp.append(imp_score)"
   ]
  },
  {
   "cell_type": "code",
   "execution_count": null,
   "id": "f0ae2237",
   "metadata": {},
   "outputs": [],
   "source": [
    "# ACS-8) For racial distribution, I prefer the percentage of each race to be AT LEAST:\n",
    "races = ['% Asian', '% Black', '% Hawaiian or Pacific Islander', '% Hispanic', '% Native American', \n",
    "         '% Two or More Races', '% White', '% Other Race']\n",
    "\n",
    "for race in races:\n",
    "    acs_d['Scores'] += acs_d[race].apply(lambda x: max(((quiz.iloc[races.index(race)+7,2] - x)/25)**2,0) * quiz.iloc[14,3])\n",
    "acs_d_imp.append(quiz.iloc[14,3])"
   ]
  },
  {
   "cell_type": "code",
   "execution_count": null,
   "id": "f62e3d1d",
   "metadata": {},
   "outputs": [],
   "source": [
    "# ACS) last questions\n",
    "acs_cats = ['Median Household Income D', 'Median Gross Rent D', 'Average Commute to Work D']\n",
    "\n",
    "start_loc = 15\n",
    "for acs_cat in acs_cats:\n",
    "    score, imp_score = grader(acs_d, start_loc + acs_cats.index(acs_cat), acs_cat)\n",
    "    acs_d['Scores'] += score\n",
    "    acs_d_imp.append(imp_score)"
   ]
  },
  {
   "cell_type": "code",
   "execution_count": null,
   "id": "a55029cb",
   "metadata": {},
   "outputs": [],
   "source": [
    "# ACS) add acs scores to FIPS_d score total\n",
    "FIPS_d['Scores'] = FIPS_d['Scores'].add(acs_d['Scores'], fill_value=0)"
   ]
  },
  {
   "cell_type": "markdown",
   "id": "41d1a7fe",
   "metadata": {},
   "source": [
    "## Health"
   ]
  },
  {
   "cell_type": "code",
   "execution_count": null,
   "id": "ae3f667b",
   "metadata": {},
   "outputs": [],
   "source": [
    "# test against only the most recent completed year but keep entirity for time series analysis\n",
    "hth_d_all, hth_d = most_recent(hth_d)"
   ]
  },
  {
   "cell_type": "code",
   "execution_count": null,
   "id": "16e56ee2",
   "metadata": {},
   "outputs": [],
   "source": [
    "# Hth) all questions\n",
    "hth_cats = ['Primary Care Physicians Per 100,000 Population D',\n",
    "'Mental Health Providers Per 100,000 Population D',\n",
    "'Dentists Per 100,000 Population D',\n",
    "'Percent Adults With Limited Access To Doctor Due To Costs D',\n",
    "'Percent Persons With Limited Access To Healthy Foods D',\n",
    "'Percent Physically Inactive Persons D',\n",
    "'Percent Obese Persons Adults D',\n",
    "'Percent Adults That Report Fair Or Poor Health D',\n",
    "'Percent Current Adult Smokers D',\n",
    "'Percent Drinking Adults D',\n",
    "'STI Rate Per 100,000 Population D',\n",
    "'Child Mortality Rate Per 100,000 Population D',\n",
    "'Teen Births Rate Per 1,000 Population D',\n",
    "'Infant Mortality Rate Per 1,000 Live Births D',\n",
    "'Percent Low Birthweight Births (<2.5Kg) D']\n",
    "\n",
    "start_loc = 49\n",
    "for hth_cat in hth_cats:\n",
    "    score, imp_score = grader(hth_d, start_loc + hth_cats.index(hth_cat), hth_cat)\n",
    "    hth_d['Scores'] += score\n",
    "    hth_d_imp.append(imp_score)"
   ]
  },
  {
   "cell_type": "code",
   "execution_count": null,
   "id": "1a90454a",
   "metadata": {},
   "outputs": [],
   "source": [
    "# Hth) add hth scores to FIPS_d score total\n",
    "FIPS_d['Scores'] = FIPS_d['Scores'].add(hth_d['Scores'], fill_value=0)"
   ]
  },
  {
   "cell_type": "markdown",
   "id": "f0bf07b8",
   "metadata": {},
   "source": [
    "## Crime"
   ]
  },
  {
   "cell_type": "code",
   "execution_count": null,
   "id": "e4e01f2c",
   "metadata": {},
   "outputs": [],
   "source": [
    "# test against only the most recent completed year but keep entirity for time series analysis\n",
    "fbi_d_all, fbi_d = most_recent(fbi_d)"
   ]
  },
  {
   "cell_type": "code",
   "execution_count": null,
   "id": "413a32f0",
   "metadata": {},
   "outputs": [],
   "source": [
    "# FBI) all questions\n",
    "fbi_cats = ['Violent Crimes Rate D','Property Crimes Rate D']\n",
    "\n",
    "start_loc = 64\n",
    "for fbi_cat in fbi_cats:\n",
    "    score, imp_score = grader(fbi_d, start_loc + fbi_cats.index(fbi_cat), fbi_cat)\n",
    "    fbi_d['Scores'] += score\n",
    "    fbi_d_imp.append(imp_score)"
   ]
  },
  {
   "cell_type": "code",
   "execution_count": null,
   "id": "c2a42ddc",
   "metadata": {},
   "outputs": [],
   "source": [
    "# FBI) add fbi_d scores to FIPS_d score total\n",
    "FIPS_d['Scores'] = FIPS_d['Scores'].add(fbi_d['Scores'], fill_value=0)"
   ]
  },
  {
   "cell_type": "markdown",
   "id": "d2daae64",
   "metadata": {},
   "source": [
    "## Politics"
   ]
  },
  {
   "cell_type": "code",
   "execution_count": null,
   "id": "024c8ee2",
   "metadata": {},
   "outputs": [],
   "source": [
    "# Pol) blanks in this dataset are equal to zero\n",
    "pol_d = pol_d.fillna(0)"
   ]
  },
  {
   "cell_type": "code",
   "execution_count": null,
   "id": "fe937726",
   "metadata": {},
   "outputs": [],
   "source": [
    "# Pol) test against only the most recent completed year but keep entirity for time series analysis\n",
    "pol_d_all, pol_d = most_recent(pol_d)"
   ]
  },
  {
   "cell_type": "code",
   "execution_count": null,
   "id": "889ba153",
   "metadata": {},
   "outputs": [],
   "source": [
    "# Pol) I prefer there to be a significant presence of this political group:\n",
    "if quiz.iloc[66,2] != 0:\n",
    "    pol_response = pol_d.loc[:,str(quiz.iloc[66,2])]\n",
    "    pol_d['Scores'] += (((100 - pol_response)/25)**2) * quiz.iloc[66,3]\n",
    "pol_d_imp.append(quiz.iloc[66,3])"
   ]
  },
  {
   "cell_type": "code",
   "execution_count": null,
   "id": "79ec2ed6",
   "metadata": {},
   "outputs": [],
   "source": [
    "# Pol) add pol_d scores to FIPS_d score total\n",
    "FIPS_d['Scores'] = FIPS_d['Scores'].add(pol_d['Scores'], fill_value=0)"
   ]
  },
  {
   "cell_type": "markdown",
   "id": "a743d0a0",
   "metadata": {},
   "source": [
    "## State Taxes"
   ]
  },
  {
   "cell_type": "code",
   "execution_count": null,
   "id": "a280691d",
   "metadata": {},
   "outputs": [],
   "source": [
    "# Tax) all questions\n",
    "tax_cats = ['State and Mean Local Sales Tax D','Income Tax (Lowest Bracket) D',\n",
    "            'Income Tax (Highest Bracket) D', 'Median Property Tax D']\n",
    "\n",
    "start_loc = 67\n",
    "for tax_cat in tax_cats:\n",
    "    score, imp_score = grader(tax_d, start_loc + tax_cats.index(tax_cat), tax_cat)\n",
    "    tax_d['Scores'] += score\n",
    "    tax_d_imp.append(imp_score)"
   ]
  },
  {
   "cell_type": "code",
   "execution_count": null,
   "id": "c5ff58cb",
   "metadata": {},
   "outputs": [],
   "source": [
    "# Tax) add state tax data to FIPS Scores through join\n",
    "tax_d_scores = tax_d[['State','Scores']].rename({'Scores':'tax_Scores'}, axis='columns')\n",
    "\n",
    "FIPS_d = FIPS_d.reset_index()\n",
    "FIPS_d = pd.merge(FIPS_d, tax_d_scores, left_on=['State'], right_on=['State'], how='left')\n",
    "FIPS_d['Scores'] += FIPS_d['tax_Scores']\n",
    "del FIPS_d['tax_Scores']\n",
    "FIPS_d = FIPS_d.set_index('FIPS')"
   ]
  },
  {
   "cell_type": "code",
   "execution_count": null,
   "id": "db906d48",
   "metadata": {},
   "outputs": [],
   "source": [
    "# sort values and remove unneeded rows\n",
    "FIPS_d.sort_values(by='Scores', inplace=True)\n",
    "FIPS_d = FIPS_d.round({'Scores':2})"
   ]
  },
  {
   "cell_type": "markdown",
   "id": "974906e3",
   "metadata": {},
   "source": [
    "### Visualization Preparation Code"
   ]
  },
  {
   "cell_type": "code",
   "execution_count": null,
   "id": "24765e7d",
   "metadata": {},
   "outputs": [],
   "source": [
    "# radar chart of category importance\n",
    "categories = ['Census', 'Terrain', 'Weather', 'School District', 'Religion', 'Health', 'Crime', 'Politics', 'Taxes']\n",
    "importance_means = [np.mean(acs_d_imp), np.mean(ter_d_imp), np.mean(wth_d_imp), np.mean(sd_d_imp), \n",
    "                    np.mean(rel_d_imp), np.mean(hth_d_imp), np.mean(fbi_d_imp), np.mean(pol_d_imp),\n",
    "                    np.mean(tax_d_imp)]\n",
    "\n",
    "imp_viz_df = pd.DataFrame(dict(Category = categories, Mean_Importance = importance_means))\n",
    "\n",
    "imp_viz = px.line_polar(imp_viz_df, r='Mean_Importance', theta='Category', line_close=True,\n",
    "                       title=\"Mean Question Importance by Category\")\n",
    "imp_viz = imp_viz.update_traces(fill='toself')"
   ]
  },
  {
   "cell_type": "code",
   "execution_count": null,
   "id": "3daaa663",
   "metadata": {},
   "outputs": [],
   "source": [
    "# desired features for table comparison\n",
    "acs_features = ['County', 'State', 'Total Population', '% Children Under 10', '% Children 10 and Older', \n",
    "                '% Couples that are Same-Sex', '% Population Over 25 with at Least a Bachelor Degree',\n",
    "               'Median Household Income (In 2020 Inflation Adjusted Dollars)', 'House Median Value',\n",
    "               'Median Gross Rent', '% Families with Income Below Poverty Level', 'Average Commute to Work (In Min)',\n",
    "               '% Civilian Population 18 Years and Over that is a Veteran']\n",
    "sd_features = ['County','State','Number of All students','Total Student membership/Full-Time-Equvalent teachers',\n",
    "               'SchoolDigger Number of Stars Elementary','SchoolDigger Number of Stars Middle',\n",
    "               'SchoolDigger Number of Stars High']\n",
    "fbi_features = ['County','State','Violent Crimes Rate','Property Crimes Rate']\n",
    "fbi_features_year = ['County','State','Year','Violent Crimes Rate','Property Crimes Rate']\n",
    "pol_features = ['County','State','Democrat','Libertarian','Green','Republican','Other']\n",
    "ter_features_year = ['County','State','Year','Farmland','Houses with lots of land','Suburbia','Big city','Forests',\n",
    "                     'Open fields','Wetlands','Open water','Rock/Sand/Clay','Perennial ice/snow']\n",
    "tax_features_low = ['State and Mean Local Sales Tax','Income Tax (Lowest Bracket)','Median Property Tax']\n",
    "tax_features_high = ['State and Mean Local Sales Tax','Income Tax (Highest Bracket)','Median Property Tax']\n",
    "wth_features = ['Winter Avg temp (F)','Summer Avg temp (F)','Avg Yearly Rainfall (in)','Yearly snowfall (in)',\n",
    "                'Hours Sunshine Daily','Clear Days','Days with Snow']\n",
    "hth_features_year = ['County','State','Year','Primary Care Physicians (PCP) Rate Per 100,000 Population',\n",
    "                'Mental Health Providers (MHP) Rate Per 100,000 Population','Dentists Rate Per 100,000 Population',\n",
    "                'Percent Adults With Limited Access To Doctor Due To Costs',\n",
    "                'Percent Persons With Limited Access To Healthy Foods','Percent Physically Inactive Persons (20 Years And Over)',\n",
    "                'Percent Obese Persons (20 Years And Over)','Percent Adults That Report Fair Or Poor Health (Persons 18 Years And Over)',\n",
    "                'Percent Current Smokers (Persons 18 Years And Over)','Percent Drinking Adults (Persons 18 Years And Over)',\n",
    "                     'STI Rate Per 100,000 Population',\n",
    "                'Child Mortality Rate Per 100,000 Population','Teen Births Rate Per 1,000 Population (Females 15 To 19 Years)',\n",
    "                'Infant Mortality Rate Per 1,000 Live Births','Percent Low Birthweight Births (<2.5Kg)']"
   ]
  },
  {
   "cell_type": "markdown",
   "id": "427fda22",
   "metadata": {},
   "source": [
    "<div class=\"alert alert-block alert-info\">\n",
    "    <b>Function description: </b><i>top_x_comp_nat</i><br>\n",
    "This function creates a new dataframe that holds only selected columns that are the most useful for comparison between counties or for visualizations.<br><br>\n",
    "The required arguments are:<br>\n",
    "1) 'dataframe' (e.g. sd_d)<br>\n",
    "2) the matching 'dataframe features' as seen in the cell above (e.g. sd_features if using sd_d)<br>\n",
    "3) the 'number of top counties to compare' (e.g. 3)\n",
    "</d>"
   ]
  },
  {
   "cell_type": "code",
   "execution_count": null,
   "id": "d94e413d",
   "metadata": {},
   "outputs": [],
   "source": [
    "def top_x_comp_nat(df, df_features, x):\n",
    "    # get national means of df\n",
    "    if df.columns[1] == \"School District Name\": # if school district df\n",
    "        top_x_FIPS_d = FIPS_d[:x] # get County and State for top x for filtering\n",
    "        df_means = pd.DataFrame(round(df.iloc[:,5:].mean(),1)).T # get national mean values\n",
    "        df_means['County'] = 'National Mean'\n",
    "        df_means['State'] = 'National Mean'\n",
    "        # filter sd_d to show only top x county/state values\n",
    "        df_top_x_all = pd.merge(top_x_FIPS_d, df, left_on=['State','County'], right_on=['State','County'], how='left')\n",
    "        df_top_x_all = pd.concat([df_means, df_top_x_all], join=\"inner\") # add national mean values to df\n",
    "    else: # FBI, Terrain, Religion, Health\n",
    "        top_x_FIPS = FIPS_d.reset_index()[:x]['FIPS'] # get FIPS of top x counties\n",
    "        df_top_x = df.loc[top_x_FIPS] # df scores of top x counties\n",
    "        if df.columns[3] == 'FIPS_Year': # if FBI\n",
    "            df_means = pd.DataFrame(round(df.iloc[:,5:].mean(),1)).T # get national mean values\n",
    "        else:\n",
    "            df_means = pd.DataFrame(round(df.iloc[:,2:].mean(),1)).T # get national mean values\n",
    "        df_means['County'] = 'National Mean'\n",
    "        df_means['State'] = 'National Mean'\n",
    "        df_top_x_all = pd.concat([df_means, df_top_x], join=\"inner\") # add national mean values to df\n",
    "    df_top_x_comp_nat = df_top_x_all[df_features] # keep only featured columns\n",
    "    # change column order to put County and State first\n",
    "    state = df_top_x_comp_nat.pop('State')\n",
    "    df_top_x_comp_nat.insert(0, 'State', state)\n",
    "    county = df_top_x_comp_nat.pop('County')\n",
    "    df_top_x_comp_nat.insert(0, 'County', county)\n",
    "    df_top_x_comp_nat = df_top_x_comp_nat.T # transpose dataframe\n",
    "    df_top_x_comp_nat.columns = df_top_x_comp_nat.iloc[0] # change column names to counties\n",
    "    df_top_x_comp_nat = df_top_x_comp_nat.iloc[1:,:] # remove county name row\n",
    "    return df_top_x_comp_nat"
   ]
  },
  {
   "cell_type": "markdown",
   "id": "8139b67f",
   "metadata": {},
   "source": [
    "<div class=\"alert alert-block alert-info\">\n",
    "    <b>Function description: </b><i>get_top_x_year</i><br>\n",
    "This function retrieves only the top x counties of only the most recent year that county has data available.<br><br>\n",
    "The required arguments are:<br>\n",
    "1) 'dataframe' (e.g. pol_d)<br>\n",
    "2) the 'number of top counties to compare' (e.g. 3)\n",
    "</div>"
   ]
  },
  {
   "cell_type": "code",
   "execution_count": null,
   "id": "808e2992",
   "metadata": {},
   "outputs": [],
   "source": [
    "def get_top_x_year(df, x):\n",
    "    top_x_FIPS = FIPS_d.reset_index()[:x]['FIPS'] # get FIPS of top x counties\n",
    "    top_x_df = df.loc[top_x_FIPS] # get df of those counties\n",
    "    return top_x_df.loc[:,top_x_df.columns != 'Scores'] # return all data except 'Scores' column"
   ]
  },
  {
   "cell_type": "markdown",
   "id": "387e0ab3",
   "metadata": {},
   "source": [
    "<div class=\"alert alert-block alert-info\">\n",
    "    <b>Function description: </b><i>pol_over_time</i><br>\n",
    "This function retrieves and rearranges Politics data to help fit it in the Presidential politics over time of top four counties visual.<br><br>\n",
    "The required arguments are:<br>\n",
    "1) 'dataframe' (pol_top_x_all)<br>\n",
    "2) the number rank of county to process (e.g. 0 for the top ranked county)<br><br>\n",
    "This function should be used in conjuction with the 'get_top_x_year' function as the dataframe argument as seen below.\n",
    "</div>"
   ]
  },
  {
   "cell_type": "code",
   "execution_count": null,
   "id": "05baf99f",
   "metadata": {},
   "outputs": [],
   "source": [
    "def pol_over_time(df,x):\n",
    "    FIPS_top_4 = list(df.index.unique()) # get list of sorted county FIPS\n",
    "    county_x = df.loc[FIPS_top_4[x]] # get data for top x county\n",
    "    county_x_year = sorted(list(county_x['Year'])) # get years with data\n",
    "    county_x_year = list(map(str,county_x_year)) # change years to string\n",
    "    county_name = county_x['County'].iloc[0] # get county name\n",
    "    y1 = county_x.loc[:,'Democrat']\n",
    "    y2 = county_x.loc[:,'Libertarian']\n",
    "    y3 = county_x.loc[:,'Green']\n",
    "    y4 = county_x.loc[:,'Republican']\n",
    "    y5 = county_x.loc[:,'Other']\n",
    "    return county_x_year, county_name, y1, y2, y3, y4, y5"
   ]
  },
  {
   "cell_type": "code",
   "execution_count": null,
   "id": "db2e02c3",
   "metadata": {},
   "outputs": [],
   "source": [
    "# Presidential politics over time of top four counties: data collection\n",
    "pol_top_x_all = get_top_x_year(pol_d_all,4) # get all years of top 4 counties\n",
    "parties = ['Democrat','Libertarian','Green','Republican','Other']\n",
    "\n",
    "county_0_years, county_0_name, y1_0, y2_0, y3_0, y4_0, y5_0 = pol_over_time(pol_top_x_all,0)\n",
    "county_1_years, county_1_name, y1_1, y2_1, y3_1, y4_1, y5_1 = pol_over_time(pol_top_x_all,1)\n",
    "county_2_years, county_2_name, y1_2, y2_2, y3_2, y4_2, y5_2 = pol_over_time(pol_top_x_all,2)\n",
    "county_3_years, county_3_name, y1_3, y2_3, y3_3, y4_3, y5_3 = pol_over_time(pol_top_x_all,3)"
   ]
  },
  {
   "cell_type": "code",
   "execution_count": null,
   "id": "7aff8739",
   "metadata": {},
   "outputs": [],
   "source": [
    "# feature prep for Census visualizations\n",
    "household_income = ['% Households Income: Less than $10,000','% Households Income: $10,000 to $14,999',\n",
    "                    '% Households Income: $15,000 to $19,999','% Households Income: $20,000 to $24,999',\n",
    "                    '% Households Income: $25,000 to $29,999','% Households Income: $30,000 to $34,999',\n",
    "                    '% Households Income: $35,000 to $39,999','% Households Income: $40,000 to $44,999',\n",
    "                    '% Households Income: $45,000 to $49,999','% Households Income: $50,000 to $59,999',\n",
    "                    '% Households Income: $60,000 to $74,999','% Households Income: $75,000 to $99,999',\n",
    "                    '% Households Income: $100,000 to $124,999','% Households Income: $125,000 to $149,999',\n",
    "                    '% Households Income: $150,000 to $199,999','% Households Income: $200,000 or More']\n",
    "foreign_born = ['% Foreign-Born Population: Africa','% Foreign-Born Population: Asia',\n",
    "                '% Foreign-Born Population: Europe','% Foreign-Born Population: Latin America',\n",
    "                '% Foreign-Born Population: Northern America','% Foreign-Born Population: Oceania']\n",
    "\n",
    "acs_top_5 = acs_d.loc[FIPS_d.reset_index()[:5]['FIPS']]\n",
    "# remove repetitive starting words for legend labels\n",
    "household_income_legend = [[x[21:] for x in household_income]][0]\n",
    "foreign_born_legend = [[x[27:] for x in foreign_born]][0]\n",
    "\n",
    "acs_topx_all = get_top_x_year(acs_d, 5) # get most recent year's data for top x census counties"
   ]
  },
  {
   "cell_type": "markdown",
   "id": "d82f9783",
   "metadata": {},
   "source": [
    "<a id=\"Results\"></a>"
   ]
  },
  {
   "cell_type": "markdown",
   "id": "77c8170d",
   "metadata": {},
   "source": [
    "## Your Top Ten Counties Results"
   ]
  },
  {
   "cell_type": "code",
   "execution_count": null,
   "id": "72c0d39f",
   "metadata": {},
   "outputs": [],
   "source": [
    "FIPS_d.head(10)"
   ]
  },
  {
   "cell_type": "markdown",
   "id": "6f802a5f",
   "metadata": {},
   "source": [
    "#### Radar plot of the mean importance score you gave to each category"
   ]
  },
  {
   "cell_type": "code",
   "execution_count": null,
   "id": "21150f45",
   "metadata": {},
   "outputs": [],
   "source": [
    "# show radar plot\n",
    "imp_viz.show()"
   ]
  },
  {
   "cell_type": "markdown",
   "id": "d4e14b26",
   "metadata": {},
   "source": [
    "---"
   ]
  },
  {
   "cell_type": "markdown",
   "id": "7619d7ff",
   "metadata": {},
   "source": [
    "<div class=\"alert alert-block alert-warning\">\n",
    "    <b>How to use the <i>top_x_comp_nat</i> functions:</b> <br>\n",
    "This function displays a table that compares selected columns between your top county results.<br>\n",
    "    You should <b>only change the number at the end</b> to explore more or fewer counties within the table.\n",
    "</div>"
   ]
  },
  {
   "cell_type": "markdown",
   "id": "2329a664",
   "metadata": {},
   "source": [
    "#### Comparison of populations, income, housing, and commute across top counties"
   ]
  },
  {
   "cell_type": "code",
   "execution_count": null,
   "id": "a6180e3d",
   "metadata": {},
   "outputs": [],
   "source": [
    "top_x_comp_nat(acs_d, acs_features, 5)"
   ]
  },
  {
   "cell_type": "markdown",
   "id": "bb209883",
   "metadata": {},
   "source": [
    "#### Comparison of household income groups across top counties"
   ]
  },
  {
   "cell_type": "code",
   "execution_count": null,
   "id": "6b84111f",
   "metadata": {},
   "outputs": [],
   "source": [
    "# percentage of households within each household income group by county prep\n",
    "acs_topx_all.set_index('County', inplace=True)"
   ]
  },
  {
   "cell_type": "code",
   "execution_count": null,
   "id": "7fcd86c2",
   "metadata": {},
   "outputs": [],
   "source": [
    "# create visualization for percentage of households\n",
    "acs_topx_all[household_income].plot(kind='bar', stacked=True, figsize=(12,6))\n",
    "plt.legend(bbox_to_anchor=(1,1), title=\"Household Income\", labels=household_income_legend)\n",
    "plt.title(\"Household Income Group by County\")\n",
    "plt.ylabel('% of Households')\n",
    "plt.xticks(rotation=45)\n",
    "plt.show()"
   ]
  },
  {
   "cell_type": "markdown",
   "id": "159841e7",
   "metadata": {},
   "source": [
    "#### Comparison of foreign-born populations by continent across top counties"
   ]
  },
  {
   "cell_type": "code",
   "execution_count": null,
   "id": "9e9798bd",
   "metadata": {},
   "outputs": [],
   "source": [
    "acs_topx_all[foreign_born]"
   ]
  },
  {
   "cell_type": "code",
   "execution_count": null,
   "id": "ec4ad8a8",
   "metadata": {},
   "outputs": [],
   "source": [
    "acs_topx_all[foreign_born].plot(kind='bar', stacked=True, figsize=(12,6))\n",
    "plt.legend(bbox_to_anchor=(1,1), title=\"Origin Nationality\", labels=foreign_born_legend)\n",
    "plt.title(\"Foreign Born by Nationality\")\n",
    "plt.xlabel('County')\n",
    "plt.ylabel('% Population')\n",
    "plt.xticks(rotation=45)\n",
    "plt.show()"
   ]
  },
  {
   "cell_type": "markdown",
   "id": "614b0368",
   "metadata": {},
   "source": [
    "#### Comparison of schools and ratings within your top school districts"
   ]
  },
  {
   "cell_type": "code",
   "execution_count": null,
   "id": "6990c071",
   "metadata": {},
   "outputs": [],
   "source": [
    "top_x_comp_nat(sd_d, sd_features, 1)"
   ]
  },
  {
   "cell_type": "markdown",
   "id": "1462ec28",
   "metadata": {},
   "source": [
    "#### Comparison of crime rates between counties"
   ]
  },
  {
   "cell_type": "code",
   "execution_count": null,
   "id": "639bdc54",
   "metadata": {},
   "outputs": [],
   "source": [
    "top_x_comp_nat(fbi_d, fbi_features, 5)"
   ]
  },
  {
   "cell_type": "code",
   "execution_count": null,
   "id": "0e3c7d58",
   "metadata": {},
   "outputs": [],
   "source": [
    "# get data for all years of top x counties\n",
    "fbi_top_x_all = get_top_x_year(fbi_d_all,5)[fbi_features_year].reset_index()\n",
    "\n",
    "# calculate national means by year\n",
    "fbi_d_grouped = fbi_d.reset_index()\n",
    "fbi_d_grouped_v = fbi_d_grouped.groupby(['Year'])['Violent Crimes Rate'].mean().reset_index()\n",
    "fbi_d_grouped_v['County'] = \"National Mean\"\n",
    "fbi_d_grouped_v['State'] = \"National Mean\"\n",
    "fbi_d_grouped_p = fbi_d_grouped.groupby(['Year'])['Property Crimes Rate'].mean().reset_index()\n",
    "fbi_d_grouped_p['County'] = \"National Mean\"\n",
    "fbi_d_grouped_p['State'] = \"National Mean\"\n",
    "\n",
    "# add national means to top x table\n",
    "fbi_top_x_comp_v = pd.concat([fbi_d_grouped_v, fbi_top_x_all],  join='inner', ignore_index=True)\n",
    "fbi_top_x_comp_p = pd.concat([fbi_d_grouped_p, fbi_top_x_all],  join='inner', ignore_index=True)"
   ]
  },
  {
   "cell_type": "code",
   "execution_count": null,
   "id": "75ee28d8",
   "metadata": {},
   "outputs": [],
   "source": [
    "# create crime rate visualization\n",
    "fig, axes = plt.subplots(1,2, figsize=(14,4), sharey=False)\n",
    "sns.lineplot(data=fbi_top_x_comp_v, x='Year', y='Violent Crimes Rate', hue='County', ax=axes[0], legend=False).set(\n",
    "         title=\"Reported Violent Crimes Rate by County Over Time\")\n",
    "sns.lineplot(data=fbi_top_x_comp_p, x='Year', y='Property Crimes Rate', hue='County', ax=axes[1]).set(\n",
    "         title=\"Reported Property Crimes Rate by County Over Time\")\n",
    "plt.legend(bbox_to_anchor=(1,1));"
   ]
  },
  {
   "cell_type": "markdown",
   "id": "2d0b2b44",
   "metadata": {},
   "source": [
    "#### Comparison of terrain type across top counties"
   ]
  },
  {
   "cell_type": "code",
   "execution_count": null,
   "id": "9a805b21",
   "metadata": {},
   "outputs": [],
   "source": [
    "ter_top_x_year = get_top_x_year(ter_d, 5)[ter_features_year]\n",
    "ter_top_x_year"
   ]
  },
  {
   "cell_type": "code",
   "execution_count": null,
   "id": "992e9612",
   "metadata": {},
   "outputs": [],
   "source": [
    "# terrain type visualization prep\n",
    "ter_top_x_year.set_index('County', inplace=True)\n",
    "ter_top_x_year = ter_top_x_year.loc[:,ter_top_x_year.columns != 'Year']"
   ]
  },
  {
   "cell_type": "code",
   "execution_count": null,
   "id": "02920fbd",
   "metadata": {},
   "outputs": [],
   "source": [
    "# create visualization for terrain comparison\n",
    "ter_top_x_year.plot(kind='barh', stacked=True, figsize=(12,6))\n",
    "plt.legend(bbox_to_anchor=(1,1), title=\"Terrain Types\")\n",
    "plt.title(\"Terrain Type by County\")\n",
    "plt.xlabel('% of Terrain')\n",
    "plt.xticks(rotation=45)\n",
    "plt.show()"
   ]
  },
  {
   "cell_type": "markdown",
   "id": "8602d005",
   "metadata": {},
   "source": [
    "#### Comparison of tax rates by state for top 10 counties"
   ]
  },
  {
   "cell_type": "code",
   "execution_count": null,
   "id": "1d017ce7",
   "metadata": {},
   "outputs": [],
   "source": [
    "# visualization prep\n",
    "top_states = FIPS_d.head()['State']\n",
    "tax_vis_d = tax_d[tax_d['State'].isin(top_states)].set_index('State')\n",
    "tax_vis_d_low = pd.DataFrame(tax_vis_d, columns=tax_features_low)\n",
    "tax_vis_d_high = pd.DataFrame(tax_vis_d, columns=tax_features_high)"
   ]
  },
  {
   "cell_type": "code",
   "execution_count": null,
   "id": "74651305",
   "metadata": {},
   "outputs": [],
   "source": [
    "# create tax rate visualization\n",
    "fig, axes = plt.subplots(1,2, figsize=(14,4), sharey=True)\n",
    "tax_vis_d_low.plot(kind='bar', stacked=True, ax=axes[0], legend=False).set(\n",
    "         title=\"Cumulative Taxes (Lowest Income Tax Bracket)\")\n",
    "tax_vis_d_high.plot(kind='bar', stacked=True, ax=axes[1]).set(\n",
    "         title=\"Cumulative Taxes (Highest Income Tax Bracket)\")\n",
    "plt.legend(bbox_to_anchor=(1,1))\n",
    "for ax in axes.flatten():\n",
    "    plt.sca(ax)\n",
    "    plt.xticks(rotation=30)\n",
    "    plt.ylabel('Cumulative Tax %')\n",
    "plt.show();"
   ]
  },
  {
   "cell_type": "markdown",
   "id": "f1fb3f87",
   "metadata": {},
   "source": [
    "#### Comparison of weather by state of top counties"
   ]
  },
  {
   "cell_type": "code",
   "execution_count": null,
   "id": "a795e2cb",
   "metadata": {},
   "outputs": [],
   "source": [
    "wth_top_d = wth_d[wth_d['State'].isin(top_states)].set_index('State')\n",
    "wth_top_d = pd.DataFrame(wth_top_d, columns=wth_features)\n",
    "wth_top_d"
   ]
  },
  {
   "cell_type": "markdown",
   "id": "7ba49238",
   "metadata": {},
   "source": [
    "#### Comparison of Presidential votes by party"
   ]
  },
  {
   "cell_type": "code",
   "execution_count": null,
   "id": "fe07486e",
   "metadata": {},
   "outputs": [],
   "source": [
    "top_x_comp_nat(pol_d, pol_features, 4)"
   ]
  },
  {
   "cell_type": "code",
   "execution_count": null,
   "id": "0d9442fb",
   "metadata": {
    "scrolled": true
   },
   "outputs": [],
   "source": [
    "# presidential politics over time of top four counties: visual\n",
    "fig, axes = plt.subplots(1,4, figsize=(14,4), sharey=True)\n",
    "fig.suptitle('Votes by Party for Presidential Elections Over Time')\n",
    "axes[0].stackplot(county_0_years, y1_0, y2_0, y3_0, y4_0, y5_0, labels=parties)\n",
    "axes[0].set_title(county_0_name)\n",
    "axes[1].stackplot(county_1_years, y1_1, y2_1, y3_1, y4_1, y5_1, labels=parties)\n",
    "axes[1].set_title(county_1_name)\n",
    "axes[2].stackplot(county_2_years, y1_2, y2_2, y3_2, y4_2, y5_2, labels=parties)\n",
    "axes[2].set_title(county_2_name)\n",
    "axes[3].stackplot(county_3_years, y1_3, y2_3, y3_3, y4_3, y5_3, labels=parties)\n",
    "axes[3].set_title(county_3_name)\n",
    "axes[0].set_ylabel('Percentage of Votes')\n",
    "plt.legend(bbox_to_anchor=(1.7,1))\n",
    "plt.show();"
   ]
  },
  {
   "cell_type": "markdown",
   "id": "55d79a59",
   "metadata": {},
   "source": [
    "#### Comparison of health statistics of top counties"
   ]
  },
  {
   "cell_type": "code",
   "execution_count": null,
   "id": "03f6133f",
   "metadata": {},
   "outputs": [],
   "source": [
    "get_top_x_year(hth_d, 5)[hth_features_year]"
   ]
  }
 ],
 "metadata": {
  "kernelspec": {
   "display_name": "Python 3 (ipykernel)",
   "language": "python",
   "name": "python3"
  },
  "language_info": {
   "codemirror_mode": {
    "name": "ipython",
    "version": 3
   },
   "file_extension": ".py",
   "mimetype": "text/x-python",
   "name": "python",
   "nbconvert_exporter": "python",
   "pygments_lexer": "ipython3",
   "version": "3.9.12"
  }
 },
 "nbformat": 4,
 "nbformat_minor": 5
}

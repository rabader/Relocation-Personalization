{
 "cells": [
  {
   "cell_type": "markdown",
   "id": "8d0d3b93",
   "metadata": {},
   "source": [
    "# Relocation Destination Personalization Machination Recommendation"
   ]
  },
  {
   "cell_type": "code",
   "execution_count": 2,
   "id": "6f8bf227",
   "metadata": {},
   "outputs": [],
   "source": [
    "import pandas as pd\n",
    "import numpy as np\n",
    "import matplotlib.pyplot as plt\n",
    "import seaborn as sns\n",
    "import plotly.express as px\n",
    "%matplotlib inline"
   ]
  },
  {
   "cell_type": "markdown",
   "id": "26ef65cd",
   "metadata": {},
   "source": [
    "<div class=\"alert alert-block alert-warning\">\n",
    "<b>Notice</b> <br>\n",
    "    Make sure your questionnaire Excel file is in the same folder as this Jupyter notebook, otherwise make sure the read_excel directory is correct.</div>"
   ]
  },
  {
   "cell_type": "code",
   "execution_count": 4,
   "id": "d7aed27f",
   "metadata": {},
   "outputs": [],
   "source": [
    "# import your quiz results\n",
    "quiz = pd.read_excel(\"../data/external/user_responses/RDPM Questionnaire.xlsx\", sheet_name=\"Upload\")"
   ]
  },
  {
   "cell_type": "markdown",
   "id": "3a428607",
   "metadata": {},
   "source": [
    "#### Feel free to scroll through the code or click here on [Results](#Results) to skip to your results and some fancy visualizations."
   ]
  },
  {
   "cell_type": "markdown",
   "id": "3197ded5",
   "metadata": {},
   "source": [
    "Much of this code relies on 'FIPS' [(Federal Information Processing Standards)](https://www.nist.gov/itl/fips-general-information), which is a NIST [(National Institute of Standards and Technology)](https://www.nist.gov/) standard of identifying counties within the USA. For simplicity, we use FIPS as the unique indentifier whenever possible in this project."
   ]
  },
  {
   "cell_type": "code",
   "execution_count": 5,
   "id": "2e7912c1",
   "metadata": {},
   "outputs": [
    {
     "name": "stdout",
     "output_type": "stream",
     "text": [
      "FIPS: 3153 \n",
      " Religion: 3149 \n",
      " School District: 18787 \n",
      " Terrain: 9356 \n",
      " Weather: 50 \n",
      " Census: 3221 \n",
      " Health: 25125 \n",
      " Crime: 17489 \n",
      " Politics: 18078 \n",
      " Taxes: 51\n"
     ]
    }
   ],
   "source": [
    "# get county data and count data rows\n",
    "github_url = \"https://raw.githubusercontent.com/rabader/relocation-personalization/main/data/\"\n",
    "\n",
    "FIPS_d = pd.read_csv(github_url + \"processed/FIPS_ref.csv\").set_index('FIPS')\n",
    "rel_d = pd.read_csv(github_url + \"processed/Religion_dataset.csv\").set_index('FIPS')\n",
    "sd_d = pd.read_csv(github_url + \"interim/School_2018_imputed.csv\")\n",
    "ter_d = pd.read_csv(github_url + \"processed/Terrain_dataset.csv\").set_index('FIPS')\n",
    "wth_d = pd.read_csv(github_url + \"processed/Weather_etc_State_dataset.csv\")\n",
    "acs_d = pd.read_csv(github_url + \"interim/ACS_2020_imputed.csv\").set_index('FIPS')\n",
    "hth_d = pd.read_csv(github_url + \"interim/health_imputed.csv\").set_index('FIPS')\n",
    "fbi_d = pd.read_csv(github_url + \"interim/fbi_imputed.csv\").set_index('FIPS')\n",
    "pol_d = pd.read_csv(github_url + \"processed/Politics.csv\").set_index('FIPS')\n",
    "tax_d = pd.read_csv(github_url + \"processed/Taxes.csv\")\n",
    "\n",
    "print(\"FIPS: \" + str(len(FIPS_d)), '\\n', \"Religion: \" + str(len(rel_d)), '\\n', \"School District: \" + str(len(sd_d)),\n",
    "    '\\n', \"Terrain: \" + str(len(ter_d)), '\\n', \"Weather: \" + str(len(wth_d)), '\\n', \"Census: \" + str(len(acs_d)),\n",
    "      '\\n', \"Health: \" + str(len(hth_d)), '\\n', \"Crime: \" + str(len(fbi_d)), '\\n', \"Politics: \" + str(len(pol_d)),\n",
    "     '\\n', \"Taxes: \" + str(len(tax_d)))"
   ]
  },
  {
   "cell_type": "code",
   "execution_count": 6,
   "id": "56da92bf",
   "metadata": {},
   "outputs": [],
   "source": [
    "# remove Alaska, Puerto Rico, and DC\n",
    "FIPS_d = FIPS_d[(FIPS_d['State']!='Alaska') & (FIPS_d['State']!='Puerto Rico') &\n",
    "                (FIPS_d['State']!= 'District Of Columbia')]"
   ]
  },
  {
   "cell_type": "code",
   "execution_count": 7,
   "id": "9ce56601",
   "metadata": {},
   "outputs": [
    {
     "name": "stdout",
     "output_type": "stream",
     "text": [
      "Starting county count: 3116\n",
      "Final county count: 2891\n"
     ]
    }
   ],
   "source": [
    "# include only counties that are commonly included in all datasets\n",
    "print(\"Starting county count: \" + str(len(FIPS_d.index)))\n",
    "FIPS_d = FIPS_d.filter(items = fbi_d.index.unique(), axis=0) # crime\n",
    "FIPS_d = FIPS_d.filter(items = ter_d.index.unique(), axis=0) # terrain\n",
    "FIPS_d = FIPS_d.filter(items = rel_d.index.unique(), axis=0) # religion\n",
    "FIPS_d = FIPS_d.filter(items = hth_d.index.unique(), axis=0) # health\n",
    "print(\"Final county count: \" + str(len(FIPS_d.index)))"
   ]
  },
  {
   "cell_type": "code",
   "execution_count": 8,
   "id": "c3a0c828",
   "metadata": {},
   "outputs": [],
   "source": [
    "# add 'Scores' column with 0 penalty points to each dataset to accumulate penalty points by topic\n",
    "dfs = [FIPS_d, rel_d, sd_d, ter_d, wth_d, acs_d, hth_d, fbi_d, pol_d, tax_d]\n",
    "\n",
    "for df in dfs:\n",
    "    df['Scores'] = 0 # create empty Scores column for all data"
   ]
  },
  {
   "cell_type": "code",
   "execution_count": 9,
   "id": "5dd8ffb1",
   "metadata": {},
   "outputs": [],
   "source": [
    "# create empty importance list for all data\n",
    "dfs_str = ['FIPS_d', 'rel_d', 'sd_d', 'ter_d', 'wth_d', 'acs_d', 'hth_d', 'fbi_d', 'pol_d', 'tax_d']\n",
    "\n",
    "for df in dfs_str:\n",
    "    exec(df+'_imp = []')"
   ]
  },
  {
   "cell_type": "markdown",
   "id": "b643a952",
   "metadata": {},
   "source": [
    "<div class=\"alert alert-block alert-info\">\n",
    "    <b>Function description: </b><i>grader</i><br>\n",
    "The \"grader\" method below tests any question based on the 5-point scale of 1-5 which is matched with \"Much less than average\", \"Less than average\", \"About average\", \"More than average\", and \"Much more than average\" respectively.\n",
    "<br><br>\n",
    "It has three arguments:<br>\n",
    "1) the current topic/dataframe being analyzed<br>\n",
    "2) the row where the questionnaire response is recorded in the hidden sheet called \"Upload\"<br>\n",
    "3) the column of the current dataframe that is being compared<br>\n",
    "<br>\n",
    "The importance score (imp_score) is recorded from the third column of the \"Upload\" sheet.\n",
    "<br><br>\n",
    "Depending on if the user response has \"At least\", \"At most\", or otherwise in the \"<=>\" column, the response is rated differently. score_series is a series result of finding the difference between the user answer of 1-5 versus each county's value of 1-5. If the user chose \"At least\", the user value (e.g. 5) is subtracted by each county's value (e.g. 2). The result (3 in this case) is larger than 0 (a max function is used to remove negatives) so the result remains. The result is squared (3**2=9) and then multiplied by the importance score of 0-10. For \"At most\", the positions in the subtraction is reversed. For \"Equal to\" or blank, the result is the absolute difference between values, squared, and multiplied by the importance score.<br><br>\n",
    "The required arguments are:<br>\n",
    "1) 'dataframe' (e.g. pol_d)<br>\n",
    "2) the 'response row' number (e.g. 4) that is in the hidden \"Upload\" sheet in the Excel questionnaire that holds the questionnaire responses in a more computer readable format<br>\n",
    "3) the column name within the dataframe that holds the 'actual' values for each county\n",
    "</div>"
   ]
  },
  {
   "cell_type": "code",
   "execution_count": 10,
   "id": "66098312",
   "metadata": {},
   "outputs": [],
   "source": [
    "def grader(df, response_row, actual):\n",
    "    \n",
    "    imp_score = quiz.iloc[response_row,3] # importance score of this question\n",
    "    \n",
    "    if quiz.iloc[response_row,1] == \"At least\":\n",
    "        score_series = df[actual].apply(lambda x: max(quiz.iloc[response_row,2] - x, 0)**2 * imp_score)\n",
    "    elif quiz.iloc[response_row,1] == \"At most:\":\n",
    "        score_series = df[actual].apply(lambda x: max(x - quiz.iloc[response_row,2], 0)**2 * imp_score)\n",
    "    else: \n",
    "        score_series = abs(quiz.iloc[response_row,2] - df[actual])**2 * imp_score\n",
    "    \n",
    "    return score_series, imp_score"
   ]
  },
  {
   "cell_type": "markdown",
   "id": "049f2cf9",
   "metadata": {},
   "source": [
    "<div class=\"alert alert-block alert-info\">\n",
    "    <b>Function description: </b><i>most_recent</i><br>\n",
    "Some datasets have data from multiple years. Sometimes the year of the most recent data does not match throughout the dataset. The function below retrieves only the most recent year of information for each county for grading against the questionnaire.<br>\n",
    "The required argument is:<br>\n",
    "1) 'dataframe' (e.g. pol_d)\n",
    "</div>"
   ]
  },
  {
   "cell_type": "code",
   "execution_count": 11,
   "id": "591dbb70",
   "metadata": {},
   "outputs": [],
   "source": [
    "# create function that uses the most recent year in the dataset for questionnaire comparison\n",
    "def most_recent(df):\n",
    "    df_all = df.copy()\n",
    "    df = df.reset_index()\n",
    "    df_recent = df.copy()\n",
    "    df_recent = df_recent.groupby(['FIPS'])['Year'].max() # get most recent data per county\n",
    "    df_recent = df_recent.reset_index()\n",
    "    df_recent = pd.DataFrame(df_recent, columns=['FIPS','Year']) # make df of each FIPS and most recent year\n",
    "    df = pd.merge(df_recent, df, left_on=['FIPS','Year'], right_on=['FIPS','Year'], how='left') # filter df to match\n",
    "    df = df.set_index('FIPS')\n",
    "    return df_all, df"
   ]
  },
  {
   "cell_type": "markdown",
   "id": "d466dfc7",
   "metadata": {},
   "source": [
    "## Religion"
   ]
  },
  {
   "cell_type": "code",
   "execution_count": 12,
   "id": "d7d3ac24",
   "metadata": {},
   "outputs": [],
   "source": [
    "# Rel) blanks in this dataset are equal to zero\n",
    "rel_d = rel_d.fillna(0)"
   ]
  },
  {
   "cell_type": "code",
   "execution_count": 13,
   "id": "868aeaa9",
   "metadata": {},
   "outputs": [],
   "source": [
    "# Rel-1) I prefer the % of the population adhering to any religion to be:\n",
    "score, imp_score = grader(rel_d, 47, 'All Religious Adherence Rate D') \n",
    "rel_d['Scores'] += score \n",
    "rel_d_imp.append(imp_score)"
   ]
  },
  {
   "cell_type": "markdown",
   "id": "b7dbe01c",
   "metadata": {},
   "source": [
    "<div class=\"alert alert-block alert-info\">\n",
    "<b>Explanation:</b><br>\n",
    "The question below (Rel-2) is one of a few based on a percentage instead of the 5-point scale like most of the other questions. In the 5-point scale questions, the largest possible difference between user and county values is four (e.g. 5-1=4). To normalize a percentage (100 point) scale, the difference is divided by 25. For example, if 0% of a religious group is found in a county, then (100-0)/25 = 4, which is the largest possible difference in the 5-point scale questions. The remaining value of 4 is also then squared and multiplied by the importance score.\n",
    "</div>"
   ]
  },
  {
   "cell_type": "code",
   "execution_count": 14,
   "id": "5a53e419",
   "metadata": {},
   "outputs": [],
   "source": [
    "# Rel-2) I prefer there to be a significant presence of this religious group:\n",
    "if quiz.iloc[48,2] != 0: # if user gave an answer\n",
    "    rel2_response = rel_d.loc[:,str(quiz.iloc[48,2])]\n",
    "    rel_d['Scores'] += (((100 - rel2_response)/25)**2) * quiz.iloc[48,3]\n",
    "rel_d_imp.append(quiz.iloc[48,3]) # imp_score"
   ]
  },
  {
   "cell_type": "code",
   "execution_count": 15,
   "id": "75f37bed",
   "metadata": {},
   "outputs": [],
   "source": [
    "# add rel_d scores to combined FIPS_d score total\n",
    "FIPS_d['Scores'] = FIPS_d['Scores'].add(rel_d['Scores'], fill_value=0)"
   ]
  },
  {
   "cell_type": "markdown",
   "id": "c2e22a29",
   "metadata": {},
   "source": [
    "## School District"
   ]
  },
  {
   "cell_type": "code",
   "execution_count": 16,
   "id": "78f99dd1",
   "metadata": {},
   "outputs": [],
   "source": [
    "# SD) first questions\n",
    "sd_cats = ['SchoolDigger Number of Stars Elementary', 'SchoolDigger Number of Stars Middle', \n",
    "          'SchoolDigger Number of Stars High', 'Student/Teacher Ratio D', 'Number All Students D']\n",
    "\n",
    "start_loc = 35 # start_loc is is the starting row for the questionnaire answer sheet\n",
    "for sd_cat in sd_cats:\n",
    "    score, imp_score = grader(sd_d, start_loc + sd_cats.index(sd_cat), sd_cat)\n",
    "    sd_d['Scores'] += score\n",
    "    sd_d_imp.append(imp_score)"
   ]
  },
  {
   "cell_type": "code",
   "execution_count": 17,
   "id": "37c29026",
   "metadata": {},
   "outputs": [],
   "source": [
    "# SD-6) For racial distribution, I prefer there to be AT LEAST this percentage of each race:\n",
    "races = ['% Asian students', '% Black students', '% Hawaiian Native/Pacific Islander students', '% Hispanic students',\n",
    "           '% American Indian/Alaska Native students', '% students with Two or More Races', '% White students']\n",
    "\n",
    "for race in races:\n",
    "    sd_d['Scores'] += sd_d[race].apply(lambda x: max(((quiz.iloc[races.index(race)+40,2] - x)/25)**2,0) * quiz.iloc[46,3])\n",
    "sd_d_imp.append(imp_score)"
   ]
  },
  {
   "cell_type": "markdown",
   "id": "6fcc4016",
   "metadata": {},
   "source": [
    "<div class=\"alert alert-block alert-info\">\n",
    "<b>Explanation:</b><br>\n",
    "There are often instances of multiple school districts being present in the same county. We decided to assign the score of the least penalized school district within each county to each county. Our logic is that if a user had an option of which school district to choose and cared enough to check school ratings, they would lean towards finding a home within the superior school district. The code assigns the least penalized school district to the county.\n",
    "</div>"
   ]
  },
  {
   "cell_type": "code",
   "execution_count": 18,
   "id": "374fee38",
   "metadata": {},
   "outputs": [],
   "source": [
    "# SD) get lowest penalty score district for each county, reset series to dataframe, reset index\n",
    "sd_d_grouped = sd_d.groupby(['County','State'])['Scores'].min().to_frame().reset_index() # get district with lowest penalty"
   ]
  },
  {
   "cell_type": "markdown",
   "id": "f8324728",
   "metadata": {},
   "source": [
    "<div class=\"alert alert-block alert-info\">\n",
    "<b>Explanation:</b><br>\n",
    "This dataset is one of a few that do not have FIPS scores assigned as an index, so score had to be added to the the cumulative FIPS_d dataset through a merge instead of addition.\n",
    "</div>"
   ]
  },
  {
   "cell_type": "code",
   "execution_count": 19,
   "id": "b6602fe5",
   "metadata": {},
   "outputs": [],
   "source": [
    "# SD) add grouped SD data to FIPS Scores through join\n",
    "FIPS_d = FIPS_d.reset_index()\n",
    "sd_d_scores = sd_d_grouped[['County','State','Scores']].rename({'Scores':'sd_Scores'}, axis='columns')\n",
    "FIPS_d = pd.merge(FIPS_d, sd_d_scores, left_on=['County','State'], right_on=['County','State'], how='left')\n",
    "FIPS_d['sd_Scores'] = FIPS_d['sd_Scores'].fillna(FIPS_d['sd_Scores'].mean()) # give mean penalty to non-matching districts\n",
    "FIPS_d['Scores'] += FIPS_d['sd_Scores'] # add SD points to cumulative points\n",
    "del FIPS_d['sd_Scores']\n",
    "FIPS_d = FIPS_d.set_index('FIPS')"
   ]
  },
  {
   "cell_type": "markdown",
   "id": "3f09fb8e",
   "metadata": {},
   "source": [
    "## Terrain"
   ]
  },
  {
   "cell_type": "code",
   "execution_count": 20,
   "id": "78033a52",
   "metadata": {},
   "outputs": [],
   "source": [
    "# test against only the most recent completed year but keep entirity for time series analysis\n",
    "ter_d_all, ter_d = most_recent(ter_d)"
   ]
  },
  {
   "cell_type": "code",
   "execution_count": 21,
   "id": "8c2d6844",
   "metadata": {},
   "outputs": [],
   "source": [
    "# Ter) test against only the most recent completed year but keep entirity for time series analysis\n",
    "ter_d_all = ter_d.copy()\n",
    "ter_d = ter_d_all[ter_d['Year']==2011]"
   ]
  },
  {
   "cell_type": "code",
   "execution_count": 22,
   "id": "b55366a2",
   "metadata": {},
   "outputs": [],
   "source": [
    "# Ter-1) For terrain, I prefer there to be AT LEAST this percentage of each terrain:\n",
    "terrains = ['Big city', 'Farmland', 'Forests', 'Houses with lots of land', 'Open fields', 'Open water', \n",
    "            'Perennial ice/snow', 'Rock/Sand/Clay', 'Suburbia', 'Wetlands']\n",
    "\n",
    "for terrain in terrains:\n",
    "    ter_d['Scores'] += ter_d[terrain].apply(\n",
    "        lambda x: max(((quiz.iloc[terrains.index(terrain)+14,2] - x)/25)**2,0) * quiz.iloc[terrains.index(terrain)+14,3])\n",
    "ter_d_imp.append(quiz.iloc[terrains.index(terrain)+14,3])"
   ]
  },
  {
   "cell_type": "code",
   "execution_count": 23,
   "id": "84178bbb",
   "metadata": {},
   "outputs": [],
   "source": [
    "# Ter) add ter_d scores to FIPS_d score total\n",
    "FIPS_d['Scores'] = FIPS_d['Scores'].add(ter_d['Scores'], fill_value=0)"
   ]
  },
  {
   "cell_type": "markdown",
   "id": "7e557a41",
   "metadata": {},
   "source": [
    "## State Level Weather"
   ]
  },
  {
   "cell_type": "code",
   "execution_count": 24,
   "id": "12233549",
   "metadata": {},
   "outputs": [],
   "source": [
    "# Wth) first questions\n",
    "wth_cats = ['Winter Avg temp (F) D', 'Summer Avg temp (F) D', 'Avg Yearly Rainfall (in) D', 'Avg Yearly Snowfall (in) D',\n",
    "          'Avg Hours Sunshine Daily D', 'Avg Clear Days D', 'Avg Days with Snow D']\n",
    "\n",
    "start_loc = 28\n",
    "for wth_cat in wth_cats:\n",
    "    score, imp_score = grader(wth_d, start_loc + wth_cats.index(wth_cat), wth_cat)\n",
    "    wth_d['Scores'] += score\n",
    "    wth_d_imp.append(imp_score)"
   ]
  },
  {
   "cell_type": "code",
   "execution_count": 25,
   "id": "cf32d96e",
   "metadata": {},
   "outputs": [],
   "source": [
    "# Wth) add state Wth data to FIPS Scores through join\n",
    "FIPS_d = FIPS_d.reset_index()\n",
    "wth_d_scores = wth_d[['State','Scores']].rename({'Scores':'wth_Scores'}, axis='columns')\n",
    "FIPS_d = pd.merge(FIPS_d, wth_d_scores, left_on='State', right_on='State', how='left')\n",
    "FIPS_d['Scores'] += FIPS_d['wth_Scores']\n",
    "del FIPS_d['wth_Scores']\n",
    "FIPS_d = FIPS_d.set_index('FIPS')"
   ]
  },
  {
   "cell_type": "markdown",
   "id": "c7d7cda8",
   "metadata": {},
   "source": [
    "## Census"
   ]
  },
  {
   "cell_type": "code",
   "execution_count": 26,
   "id": "1190b433",
   "metadata": {},
   "outputs": [],
   "source": [
    "# ACS) first questions\n",
    "acs_cats = ['% Pop Density D', '% Children Under 10 D', '% Children 10 and Older D', '% Couples that are Same-Sex D',\n",
    "           '% Population Over 25 with at Least a Bachelor Degree D', \n",
    "           '% Civilian Population 18 Years and Over that is a Veteran D',\n",
    "           '% Foreign Born D']\n",
    "\n",
    "start_loc = 0\n",
    "for acs_cat in acs_cats:\n",
    "    score, imp_score = grader(acs_d, start_loc + acs_cats.index(acs_cat), acs_cat)\n",
    "    acs_d['Scores'] += score\n",
    "    acs_d_imp.append(imp_score)"
   ]
  },
  {
   "cell_type": "code",
   "execution_count": 27,
   "id": "f0ae2237",
   "metadata": {},
   "outputs": [],
   "source": [
    "# ACS-8) For racial distribution, I prefer the percentage of each race to be AT LEAST:\n",
    "races = ['% Asian', '% Black', '% Hawaiian or Pacific Islander', '% Hispanic', '% Native American', \n",
    "         '% Two or More Races', '% White', '% Other Race']\n",
    "\n",
    "for race in races:\n",
    "    acs_d['Scores'] += acs_d[race].apply(lambda x: max(((quiz.iloc[races.index(race)+7,2] - x)/25)**2,0) * quiz.iloc[14,3])\n",
    "acs_d_imp.append(quiz.iloc[14,3])"
   ]
  },
  {
   "cell_type": "code",
   "execution_count": 28,
   "id": "f62e3d1d",
   "metadata": {},
   "outputs": [],
   "source": [
    "# ACS) last questions\n",
    "acs_cats = ['Median Household Income D', 'Median Gross Rent D', 'Average Commute to Work D']\n",
    "\n",
    "start_loc = 15\n",
    "for acs_cat in acs_cats:\n",
    "    score, imp_score = grader(acs_d, start_loc + acs_cats.index(acs_cat), acs_cat)\n",
    "    acs_d['Scores'] += score\n",
    "    acs_d_imp.append(imp_score)"
   ]
  },
  {
   "cell_type": "code",
   "execution_count": 29,
   "id": "a55029cb",
   "metadata": {},
   "outputs": [],
   "source": [
    "# ACS) add acs scores to FIPS_d score total\n",
    "FIPS_d['Scores'] = FIPS_d['Scores'].add(acs_d['Scores'], fill_value=0)"
   ]
  },
  {
   "cell_type": "markdown",
   "id": "41d1a7fe",
   "metadata": {},
   "source": [
    "## Health"
   ]
  },
  {
   "cell_type": "code",
   "execution_count": 30,
   "id": "ae3f667b",
   "metadata": {},
   "outputs": [],
   "source": [
    "# test against only the most recent completed year but keep entirity for time series analysis\n",
    "hth_d_all, hth_d = most_recent(hth_d)"
   ]
  },
  {
   "cell_type": "code",
   "execution_count": 31,
   "id": "16e56ee2",
   "metadata": {},
   "outputs": [],
   "source": [
    "# Hth) all questions\n",
    "hth_cats = ['Primary Care Physicians Per 100,000 Population D',\n",
    "'Mental Health Providers Per 100,000 Population D',\n",
    "'Dentists Per 100,000 Population D',\n",
    "'Percent Adults With Limited Access To Doctor Due To Costs D',\n",
    "'Percent Persons With Limited Access To Healthy Foods D',\n",
    "'Percent Physically Inactive Persons D',\n",
    "'Percent Obese Persons Adults D',\n",
    "'Percent Adults That Report Fair Or Poor Health D',\n",
    "'Percent Current Adult Smokers D',\n",
    "'Percent Drinking Adults D',\n",
    "'STI Rate Per 100,000 Population D',\n",
    "'Child Mortality Rate Per 100,000 Population D',\n",
    "'Teen Births Rate Per 1,000 Population D',\n",
    "'Infant Mortality Rate Per 1,000 Live Births D',\n",
    "'Percent Low Birthweight Births (<2.5Kg) D']\n",
    "\n",
    "start_loc = 49\n",
    "for hth_cat in hth_cats:\n",
    "    score, imp_score = grader(hth_d, start_loc + hth_cats.index(hth_cat), hth_cat)\n",
    "    hth_d['Scores'] += score\n",
    "    hth_d_imp.append(imp_score)"
   ]
  },
  {
   "cell_type": "code",
   "execution_count": 32,
   "id": "1a90454a",
   "metadata": {},
   "outputs": [],
   "source": [
    "# Hth) add hth scores to FIPS_d score total\n",
    "FIPS_d['Scores'] = FIPS_d['Scores'].add(hth_d['Scores'], fill_value=0)"
   ]
  },
  {
   "cell_type": "markdown",
   "id": "f0bf07b8",
   "metadata": {},
   "source": [
    "## Crime"
   ]
  },
  {
   "cell_type": "code",
   "execution_count": 33,
   "id": "e4e01f2c",
   "metadata": {},
   "outputs": [],
   "source": [
    "# test against only the most recent completed year but keep entirity for time series analysis\n",
    "fbi_d_all, fbi_d = most_recent(fbi_d)"
   ]
  },
  {
   "cell_type": "code",
   "execution_count": 34,
   "id": "413a32f0",
   "metadata": {},
   "outputs": [],
   "source": [
    "# FBI) all questions\n",
    "fbi_cats = ['Violent Crimes Rate D','Property Crimes Rate D']\n",
    "\n",
    "start_loc = 64\n",
    "for fbi_cat in fbi_cats:\n",
    "    score, imp_score = grader(fbi_d, start_loc + fbi_cats.index(fbi_cat), fbi_cat)\n",
    "    fbi_d['Scores'] += score\n",
    "    fbi_d_imp.append(imp_score)"
   ]
  },
  {
   "cell_type": "code",
   "execution_count": 35,
   "id": "c2a42ddc",
   "metadata": {},
   "outputs": [],
   "source": [
    "# FBI) add fbi_d scores to FIPS_d score total\n",
    "FIPS_d['Scores'] = FIPS_d['Scores'].add(fbi_d['Scores'], fill_value=0)"
   ]
  },
  {
   "cell_type": "markdown",
   "id": "d2daae64",
   "metadata": {},
   "source": [
    "## Politics"
   ]
  },
  {
   "cell_type": "code",
   "execution_count": 36,
   "id": "024c8ee2",
   "metadata": {},
   "outputs": [],
   "source": [
    "# Pol) blanks in this dataset are equal to zero\n",
    "pol_d = pol_d.fillna(0)"
   ]
  },
  {
   "cell_type": "code",
   "execution_count": 37,
   "id": "fe937726",
   "metadata": {},
   "outputs": [],
   "source": [
    "# Pol) test against only the most recent completed year but keep entirity for time series analysis\n",
    "pol_d_all, pol_d = most_recent(pol_d)"
   ]
  },
  {
   "cell_type": "code",
   "execution_count": 38,
   "id": "889ba153",
   "metadata": {},
   "outputs": [],
   "source": [
    "# Pol) I prefer there to be a significant presence of this political group:\n",
    "if quiz.iloc[66,2] != 0:\n",
    "    pol_response = pol_d.loc[:,str(quiz.iloc[66,2])]\n",
    "    pol_d['Scores'] += (((100 - pol_response)/25)**2) * quiz.iloc[66,3]\n",
    "pol_d_imp.append(quiz.iloc[66,3])"
   ]
  },
  {
   "cell_type": "code",
   "execution_count": 39,
   "id": "79ec2ed6",
   "metadata": {},
   "outputs": [],
   "source": [
    "# Pol) add pol_d scores to FIPS_d score total\n",
    "FIPS_d['Scores'] = FIPS_d['Scores'].add(pol_d['Scores'], fill_value=0)"
   ]
  },
  {
   "cell_type": "markdown",
   "id": "a743d0a0",
   "metadata": {},
   "source": [
    "## State Taxes"
   ]
  },
  {
   "cell_type": "code",
   "execution_count": 40,
   "id": "a280691d",
   "metadata": {},
   "outputs": [],
   "source": [
    "# Tax) all questions\n",
    "tax_cats = ['State and Mean Local Sales Tax D','Income Tax (Lowest Bracket) D',\n",
    "            'Income Tax (Highest Bracket) D', 'Median Property Tax D']\n",
    "\n",
    "start_loc = 67\n",
    "for tax_cat in tax_cats:\n",
    "    score, imp_score = grader(tax_d, start_loc + tax_cats.index(tax_cat), tax_cat)\n",
    "    tax_d['Scores'] += score\n",
    "    tax_d_imp.append(imp_score)"
   ]
  },
  {
   "cell_type": "code",
   "execution_count": 41,
   "id": "c5ff58cb",
   "metadata": {},
   "outputs": [],
   "source": [
    "# Tax) add state tax data to FIPS Scores through join\n",
    "tax_d_scores = tax_d[['State','Scores']].rename({'Scores':'tax_Scores'}, axis='columns')\n",
    "\n",
    "FIPS_d = FIPS_d.reset_index()\n",
    "FIPS_d = pd.merge(FIPS_d, tax_d_scores, left_on=['State'], right_on=['State'], how='left')\n",
    "FIPS_d['Scores'] += FIPS_d['tax_Scores']\n",
    "del FIPS_d['tax_Scores']\n",
    "FIPS_d = FIPS_d.set_index('FIPS')"
   ]
  },
  {
   "cell_type": "code",
   "execution_count": 42,
   "id": "db906d48",
   "metadata": {},
   "outputs": [],
   "source": [
    "# sort values and remove unneeded rows\n",
    "FIPS_d.sort_values(by='Scores', inplace=True)\n",
    "FIPS_d = FIPS_d.round({'Scores':2})"
   ]
  },
  {
   "cell_type": "markdown",
   "id": "974906e3",
   "metadata": {},
   "source": [
    "### Visualization Preparation Code"
   ]
  },
  {
   "cell_type": "code",
   "execution_count": 43,
   "id": "24765e7d",
   "metadata": {},
   "outputs": [
    {
     "name": "stderr",
     "output_type": "stream",
     "text": [
      "/opt/miniconda3/envs/siads699/lib/python3.10/site-packages/plotly/express/_core.py:271: FutureWarning: The frame.append method is deprecated and will be removed from pandas in a future version. Use pandas.concat instead.\n",
      "  trace_data = trace_data.append(trace_data.iloc[0])\n"
     ]
    }
   ],
   "source": [
    "# radar chart of category importance\n",
    "categories = ['Census', 'Terrain', 'Weather', 'School District', 'Religion', 'Health', 'Crime', 'Politics', 'Taxes']\n",
    "importance_means = [np.mean(acs_d_imp), np.mean(ter_d_imp), np.mean(wth_d_imp), np.mean(sd_d_imp), \n",
    "                    np.mean(rel_d_imp), np.mean(hth_d_imp), np.mean(fbi_d_imp), np.mean(pol_d_imp),\n",
    "                    np.mean(tax_d_imp)]\n",
    "\n",
    "imp_viz_df = pd.DataFrame(dict(Category = categories, Mean_Importance = importance_means))\n",
    "\n",
    "imp_viz = px.line_polar(imp_viz_df, r='Mean_Importance', theta='Category', line_close=True,\n",
    "                       title=\"Mean Question Importance by Category\")\n",
    "imp_viz = imp_viz.update_traces(fill='toself')"
   ]
  },
  {
   "cell_type": "code",
   "execution_count": 44,
   "id": "3daaa663",
   "metadata": {},
   "outputs": [],
   "source": [
    "# desired features for table comparison\n",
    "acs_features = ['County', 'State', 'Total Population', '% Children Under 10', '% Children 10 and Older', \n",
    "                '% Couples that are Same-Sex', '% Population Over 25 with at Least a Bachelor Degree',\n",
    "               'Median Household Income (In 2020 Inflation Adjusted Dollars)', 'House Median Value',\n",
    "               'Median Gross Rent', '% Families with Income Below Poverty Level', 'Average Commute to Work (In Min)',\n",
    "               '% Civilian Population 18 Years and Over that is a Veteran']\n",
    "sd_features = ['County','State','Number of All students','Total Student membership/Full-Time-Equvalent teachers',\n",
    "               'SchoolDigger Number of Stars Elementary','SchoolDigger Number of Stars Middle',\n",
    "               'SchoolDigger Number of Stars High']\n",
    "fbi_features = ['County','State','Violent Crimes Rate','Property Crimes Rate']\n",
    "fbi_features_year = ['County','State','Year','Violent Crimes Rate','Property Crimes Rate']\n",
    "pol_features = ['County','State','Democrat','Libertarian','Green','Republican','Other']\n",
    "ter_features_year = ['County','State','Year','Farmland','Houses with lots of land','Suburbia','Big city','Forests',\n",
    "                     'Open fields','Wetlands','Open water','Rock/Sand/Clay','Perennial ice/snow']\n",
    "tax_features_low = ['State and Mean Local Sales Tax','Income Tax (Lowest Bracket)','Median Property Tax']\n",
    "tax_features_high = ['State and Mean Local Sales Tax','Income Tax (Highest Bracket)','Median Property Tax']\n",
    "wth_features = ['Winter Avg temp (F)','Summer Avg temp (F)','Avg Yearly Rainfall (in)','Yearly snowfall (in)',\n",
    "                'Hours Sunshine Daily','Clear Days','Days with Snow']\n",
    "hth_features_year = ['County','State','Year','Primary Care Physicians (PCP) Rate Per 100,000 Population',\n",
    "                'Mental Health Providers (MHP) Rate Per 100,000 Population','Dentists Rate Per 100,000 Population',\n",
    "                'Percent Adults With Limited Access To Doctor Due To Costs',\n",
    "                'Percent Persons With Limited Access To Healthy Foods','Percent Physically Inactive Persons (20 Years And Over)',\n",
    "                'Percent Obese Persons (20 Years And Over)','Percent Adults That Report Fair Or Poor Health (Persons 18 Years And Over)',\n",
    "                'Percent Current Smokers (Persons 18 Years And Over)','Percent Drinking Adults (Persons 18 Years And Over)',\n",
    "                     'STI Rate Per 100,000 Population',\n",
    "                'Child Mortality Rate Per 100,000 Population','Teen Births Rate Per 1,000 Population (Females 15 To 19 Years)',\n",
    "                'Infant Mortality Rate Per 1,000 Live Births','Percent Low Birthweight Births (<2.5Kg)']"
   ]
  },
  {
   "cell_type": "markdown",
   "id": "427fda22",
   "metadata": {},
   "source": [
    "<div class=\"alert alert-block alert-info\">\n",
    "    <b>Function description: </b><i>top_x_comp_nat</i><br>\n",
    "This function creates a new dataframe that holds only selected columns that are the most useful for comparison between counties or for visualizations.<br><br>\n",
    "The required arguments are:<br>\n",
    "1) 'dataframe' (e.g. sd_d)<br>\n",
    "2) the matching 'dataframe features' as seen in the cell above (e.g. sd_features if using sd_d)<br>\n",
    "3) the 'number of top counties to compare' (e.g. 3)\n",
    "</d>"
   ]
  },
  {
   "cell_type": "code",
   "execution_count": 45,
   "id": "d94e413d",
   "metadata": {},
   "outputs": [],
   "source": [
    "def top_x_comp_nat(df, df_features, x):\n",
    "    # get national means of df\n",
    "    if df.columns[1] == \"School District Name\": # if school district df\n",
    "        top_x_FIPS_d = FIPS_d[:x] # get County and State for top x for filtering\n",
    "        df_means = pd.DataFrame(round(df.iloc[:,5:].mean(),1)).T # get national mean values\n",
    "        df_means['County'] = 'National Mean'\n",
    "        df_means['State'] = 'National Mean'\n",
    "        # filter sd_d to show only top x county/state values\n",
    "        df_top_x_all = pd.merge(top_x_FIPS_d, df, left_on=['State','County'], right_on=['State','County'], how='left')\n",
    "        df_top_x_all = pd.concat([df_means, df_top_x_all], join=\"inner\") # add national mean values to df\n",
    "    else: # FBI, Terrain, Religion, Health\n",
    "        top_x_FIPS = FIPS_d.reset_index()[:x]['FIPS'] # get FIPS of top x counties\n",
    "        df_top_x = df.loc[top_x_FIPS] # df scores of top x counties\n",
    "        if df.columns[3] == 'FIPS_Year': # if FBI\n",
    "            df_means = pd.DataFrame(round(df.iloc[:,5:].mean(),1)).T # get national mean values\n",
    "        else:\n",
    "            df_means = pd.DataFrame(round(df.iloc[:,2:].mean(),1)).T # get national mean values\n",
    "        df_means['County'] = 'National Mean'\n",
    "        df_means['State'] = 'National Mean'\n",
    "        df_top_x_all = pd.concat([df_means, df_top_x], join=\"inner\") # add national mean values to df\n",
    "    df_top_x_comp_nat = df_top_x_all[df_features] # keep only featured columns\n",
    "    # change column order to put County and State first\n",
    "    state = df_top_x_comp_nat.pop('State')\n",
    "    df_top_x_comp_nat.insert(0, 'State', state)\n",
    "    county = df_top_x_comp_nat.pop('County')\n",
    "    df_top_x_comp_nat.insert(0, 'County', county)\n",
    "    df_top_x_comp_nat = df_top_x_comp_nat.T # transpose dataframe\n",
    "    df_top_x_comp_nat.columns = df_top_x_comp_nat.iloc[0] # change column names to counties\n",
    "    df_top_x_comp_nat = df_top_x_comp_nat.iloc[1:,:] # remove county name row\n",
    "    return df_top_x_comp_nat"
   ]
  },
  {
   "cell_type": "markdown",
   "id": "8139b67f",
   "metadata": {},
   "source": [
    "<div class=\"alert alert-block alert-info\">\n",
    "    <b>Function description: </b><i>get_top_x_year</i><br>\n",
    "This function retrieves only the top x counties of only the most recent year that county has data available.<br><br>\n",
    "The required arguments are:<br>\n",
    "1) 'dataframe' (e.g. pol_d)<br>\n",
    "2) the 'number of top counties to compare' (e.g. 3)\n",
    "</div>"
   ]
  },
  {
   "cell_type": "code",
   "execution_count": 46,
   "id": "808e2992",
   "metadata": {},
   "outputs": [],
   "source": [
    "def get_top_x_year(df, x):\n",
    "    top_x_FIPS = FIPS_d.reset_index()[:x]['FIPS'] # get FIPS of top x counties\n",
    "    top_x_df = df.loc[top_x_FIPS] # get df of those counties\n",
    "    return top_x_df.loc[:,top_x_df.columns != 'Scores'] # return all data except 'Scores' column"
   ]
  },
  {
   "cell_type": "markdown",
   "id": "387e0ab3",
   "metadata": {},
   "source": [
    "<div class=\"alert alert-block alert-info\">\n",
    "    <b>Function description: </b><i>pol_over_time</i><br>\n",
    "This function retrieves and rearranges Politics data to help fit it in the Presidential politics over time of top four counties visual.<br><br>\n",
    "The required arguments are:<br>\n",
    "1) 'dataframe' (pol_top_x_all)<br>\n",
    "2) the number rank of county to process (e.g. 0 for the top ranked county)<br><br>\n",
    "This function should be used in conjuction with the 'get_top_x_year' function as the dataframe argument as seen below.\n",
    "</div>"
   ]
  },
  {
   "cell_type": "code",
   "execution_count": 47,
   "id": "05baf99f",
   "metadata": {},
   "outputs": [],
   "source": [
    "def pol_over_time(df,x):\n",
    "    FIPS_top_4 = list(df.index.unique()) # get list of sorted county FIPS\n",
    "    county_x = df.loc[FIPS_top_4[x]] # get data for top x county\n",
    "    county_x_year = sorted(list(county_x['Year'])) # get years with data\n",
    "    county_x_year = list(map(str,county_x_year)) # change years to string\n",
    "    county_name = county_x['County'].iloc[0] # get county name\n",
    "    y1 = county_x.loc[:,'Democrat']\n",
    "    y2 = county_x.loc[:,'Libertarian']\n",
    "    y3 = county_x.loc[:,'Green']\n",
    "    y4 = county_x.loc[:,'Republican']\n",
    "    y5 = county_x.loc[:,'Other']\n",
    "    return county_x_year, county_name, y1, y2, y3, y4, y5"
   ]
  },
  {
   "cell_type": "code",
   "execution_count": 48,
   "id": "db2e02c3",
   "metadata": {},
   "outputs": [],
   "source": [
    "# Presidential politics over time of top four counties: data collection\n",
    "pol_top_x_all = get_top_x_year(pol_d_all,4) # get all years of top 4 counties\n",
    "parties = ['Democrat','Libertarian','Green','Republican','Other']\n",
    "\n",
    "county_0_years, county_0_name, y1_0, y2_0, y3_0, y4_0, y5_0 = pol_over_time(pol_top_x_all,0)\n",
    "county_1_years, county_1_name, y1_1, y2_1, y3_1, y4_1, y5_1 = pol_over_time(pol_top_x_all,1)\n",
    "county_2_years, county_2_name, y1_2, y2_2, y3_2, y4_2, y5_2 = pol_over_time(pol_top_x_all,2)\n",
    "county_3_years, county_3_name, y1_3, y2_3, y3_3, y4_3, y5_3 = pol_over_time(pol_top_x_all,3)"
   ]
  },
  {
   "cell_type": "code",
   "execution_count": 49,
   "id": "7aff8739",
   "metadata": {},
   "outputs": [],
   "source": [
    "# feature prep for Census visualizations\n",
    "household_income = ['% Households Income: Less than $10,000','% Households Income: $10,000 to $14,999',\n",
    "                    '% Households Income: $15,000 to $19,999','% Households Income: $20,000 to $24,999',\n",
    "                    '% Households Income: $25,000 to $29,999','% Households Income: $30,000 to $34,999',\n",
    "                    '% Households Income: $35,000 to $39,999','% Households Income: $40,000 to $44,999',\n",
    "                    '% Households Income: $45,000 to $49,999','% Households Income: $50,000 to $59,999',\n",
    "                    '% Households Income: $60,000 to $74,999','% Households Income: $75,000 to $99,999',\n",
    "                    '% Households Income: $100,000 to $124,999','% Households Income: $125,000 to $149,999',\n",
    "                    '% Households Income: $150,000 to $199,999','% Households Income: $200,000 or More']\n",
    "foreign_born = ['% Foreign-Born Population: Africa','% Foreign-Born Population: Asia',\n",
    "                '% Foreign-Born Population: Europe','% Foreign-Born Population: Latin America',\n",
    "                '% Foreign-Born Population: Northern America','% Foreign-Born Population: Oceania']\n",
    "\n",
    "acs_top_5 = acs_d.loc[FIPS_d.reset_index()[:5]['FIPS']]\n",
    "# remove repetitive starting words for legend labels\n",
    "household_income_legend = [[x[21:] for x in household_income]][0]\n",
    "foreign_born_legend = [[x[27:] for x in foreign_born]][0]\n",
    "\n",
    "acs_topx_all = get_top_x_year(acs_d, 5) # get most recent year's data for top x census counties"
   ]
  },
  {
   "cell_type": "markdown",
   "id": "d82f9783",
   "metadata": {},
   "source": [
    "<a id=\"Results\"></a>"
   ]
  },
  {
   "cell_type": "markdown",
   "id": "77c8170d",
   "metadata": {},
   "source": [
    "## Your Top Ten Counties Results"
   ]
  },
  {
   "cell_type": "code",
   "execution_count": 50,
   "id": "72c0d39f",
   "metadata": {},
   "outputs": [
    {
     "data": {
      "text/html": [
       "<div>\n",
       "<style scoped>\n",
       "    .dataframe tbody tr th:only-of-type {\n",
       "        vertical-align: middle;\n",
       "    }\n",
       "\n",
       "    .dataframe tbody tr th {\n",
       "        vertical-align: top;\n",
       "    }\n",
       "\n",
       "    .dataframe thead th {\n",
       "        text-align: right;\n",
       "    }\n",
       "</style>\n",
       "<table border=\"1\" class=\"dataframe\">\n",
       "  <thead>\n",
       "    <tr style=\"text-align: right;\">\n",
       "      <th></th>\n",
       "      <th>County</th>\n",
       "      <th>State</th>\n",
       "      <th>Scores</th>\n",
       "    </tr>\n",
       "    <tr>\n",
       "      <th>FIPS</th>\n",
       "      <th></th>\n",
       "      <th></th>\n",
       "      <th></th>\n",
       "    </tr>\n",
       "  </thead>\n",
       "  <tbody>\n",
       "    <tr>\n",
       "      <th>1001</th>\n",
       "      <td>Autauga County</td>\n",
       "      <td>Alabama</td>\n",
       "      <td>0.0</td>\n",
       "    </tr>\n",
       "    <tr>\n",
       "      <th>39117</th>\n",
       "      <td>Morrow County</td>\n",
       "      <td>Ohio</td>\n",
       "      <td>0.0</td>\n",
       "    </tr>\n",
       "    <tr>\n",
       "      <th>39119</th>\n",
       "      <td>Muskingum County</td>\n",
       "      <td>Ohio</td>\n",
       "      <td>0.0</td>\n",
       "    </tr>\n",
       "    <tr>\n",
       "      <th>39121</th>\n",
       "      <td>Noble County</td>\n",
       "      <td>Ohio</td>\n",
       "      <td>0.0</td>\n",
       "    </tr>\n",
       "    <tr>\n",
       "      <th>39123</th>\n",
       "      <td>Ottawa County</td>\n",
       "      <td>Ohio</td>\n",
       "      <td>0.0</td>\n",
       "    </tr>\n",
       "    <tr>\n",
       "      <th>39125</th>\n",
       "      <td>Paulding County</td>\n",
       "      <td>Ohio</td>\n",
       "      <td>0.0</td>\n",
       "    </tr>\n",
       "    <tr>\n",
       "      <th>39127</th>\n",
       "      <td>Perry County</td>\n",
       "      <td>Ohio</td>\n",
       "      <td>0.0</td>\n",
       "    </tr>\n",
       "    <tr>\n",
       "      <th>39129</th>\n",
       "      <td>Pickaway County</td>\n",
       "      <td>Ohio</td>\n",
       "      <td>0.0</td>\n",
       "    </tr>\n",
       "    <tr>\n",
       "      <th>39131</th>\n",
       "      <td>Pike County</td>\n",
       "      <td>Ohio</td>\n",
       "      <td>0.0</td>\n",
       "    </tr>\n",
       "    <tr>\n",
       "      <th>39115</th>\n",
       "      <td>Morgan County</td>\n",
       "      <td>Ohio</td>\n",
       "      <td>0.0</td>\n",
       "    </tr>\n",
       "  </tbody>\n",
       "</table>\n",
       "</div>"
      ],
      "text/plain": [
       "                 County    State  Scores\n",
       "FIPS                                    \n",
       "1001     Autauga County  Alabama     0.0\n",
       "39117     Morrow County     Ohio     0.0\n",
       "39119  Muskingum County     Ohio     0.0\n",
       "39121      Noble County     Ohio     0.0\n",
       "39123     Ottawa County     Ohio     0.0\n",
       "39125   Paulding County     Ohio     0.0\n",
       "39127      Perry County     Ohio     0.0\n",
       "39129   Pickaway County     Ohio     0.0\n",
       "39131       Pike County     Ohio     0.0\n",
       "39115     Morgan County     Ohio     0.0"
      ]
     },
     "execution_count": 50,
     "metadata": {},
     "output_type": "execute_result"
    }
   ],
   "source": [
    "FIPS_d.head(10)"
   ]
  },
  {
   "cell_type": "markdown",
   "id": "6f802a5f",
   "metadata": {},
   "source": [
    "#### Radar plot of the mean importance score you gave to each category"
   ]
  },
  {
   "cell_type": "code",
   "execution_count": 51,
   "id": "21150f45",
   "metadata": {},
   "outputs": [
    {
     "data": {
      "application/vnd.plotly.v1+json": {
       "config": {
        "plotlyServerURL": "https://plot.ly"
       },
       "data": [
        {
         "fill": "toself",
         "hovertemplate": "Mean_Importance=%{r}<br>Category=%{theta}<extra></extra>",
         "legendgroup": "",
         "line": {
          "color": "#636efa",
          "dash": "solid"
         },
         "marker": {
          "symbol": "circle"
         },
         "mode": "lines",
         "name": "",
         "r": [
          0,
          0,
          0,
          0,
          0,
          0,
          0,
          0,
          0,
          0
         ],
         "showlegend": false,
         "subplot": "polar",
         "theta": [
          "Census",
          "Terrain",
          "Weather",
          "School District",
          "Religion",
          "Health",
          "Crime",
          "Politics",
          "Taxes",
          "Census"
         ],
         "type": "scatterpolar"
        }
       ],
       "layout": {
        "legend": {
         "tracegroupgap": 0
        },
        "polar": {
         "angularaxis": {
          "direction": "clockwise",
          "rotation": 90
         },
         "domain": {
          "x": [
           0,
           1
          ],
          "y": [
           0,
           1
          ]
         }
        },
        "template": {
         "data": {
          "bar": [
           {
            "error_x": {
             "color": "#2a3f5f"
            },
            "error_y": {
             "color": "#2a3f5f"
            },
            "marker": {
             "line": {
              "color": "#E5ECF6",
              "width": 0.5
             },
             "pattern": {
              "fillmode": "overlay",
              "size": 10,
              "solidity": 0.2
             }
            },
            "type": "bar"
           }
          ],
          "barpolar": [
           {
            "marker": {
             "line": {
              "color": "#E5ECF6",
              "width": 0.5
             },
             "pattern": {
              "fillmode": "overlay",
              "size": 10,
              "solidity": 0.2
             }
            },
            "type": "barpolar"
           }
          ],
          "carpet": [
           {
            "aaxis": {
             "endlinecolor": "#2a3f5f",
             "gridcolor": "white",
             "linecolor": "white",
             "minorgridcolor": "white",
             "startlinecolor": "#2a3f5f"
            },
            "baxis": {
             "endlinecolor": "#2a3f5f",
             "gridcolor": "white",
             "linecolor": "white",
             "minorgridcolor": "white",
             "startlinecolor": "#2a3f5f"
            },
            "type": "carpet"
           }
          ],
          "choropleth": [
           {
            "colorbar": {
             "outlinewidth": 0,
             "ticks": ""
            },
            "type": "choropleth"
           }
          ],
          "contour": [
           {
            "colorbar": {
             "outlinewidth": 0,
             "ticks": ""
            },
            "colorscale": [
             [
              0,
              "#0d0887"
             ],
             [
              0.1111111111111111,
              "#46039f"
             ],
             [
              0.2222222222222222,
              "#7201a8"
             ],
             [
              0.3333333333333333,
              "#9c179e"
             ],
             [
              0.4444444444444444,
              "#bd3786"
             ],
             [
              0.5555555555555556,
              "#d8576b"
             ],
             [
              0.6666666666666666,
              "#ed7953"
             ],
             [
              0.7777777777777778,
              "#fb9f3a"
             ],
             [
              0.8888888888888888,
              "#fdca26"
             ],
             [
              1,
              "#f0f921"
             ]
            ],
            "type": "contour"
           }
          ],
          "contourcarpet": [
           {
            "colorbar": {
             "outlinewidth": 0,
             "ticks": ""
            },
            "type": "contourcarpet"
           }
          ],
          "heatmap": [
           {
            "colorbar": {
             "outlinewidth": 0,
             "ticks": ""
            },
            "colorscale": [
             [
              0,
              "#0d0887"
             ],
             [
              0.1111111111111111,
              "#46039f"
             ],
             [
              0.2222222222222222,
              "#7201a8"
             ],
             [
              0.3333333333333333,
              "#9c179e"
             ],
             [
              0.4444444444444444,
              "#bd3786"
             ],
             [
              0.5555555555555556,
              "#d8576b"
             ],
             [
              0.6666666666666666,
              "#ed7953"
             ],
             [
              0.7777777777777778,
              "#fb9f3a"
             ],
             [
              0.8888888888888888,
              "#fdca26"
             ],
             [
              1,
              "#f0f921"
             ]
            ],
            "type": "heatmap"
           }
          ],
          "heatmapgl": [
           {
            "colorbar": {
             "outlinewidth": 0,
             "ticks": ""
            },
            "colorscale": [
             [
              0,
              "#0d0887"
             ],
             [
              0.1111111111111111,
              "#46039f"
             ],
             [
              0.2222222222222222,
              "#7201a8"
             ],
             [
              0.3333333333333333,
              "#9c179e"
             ],
             [
              0.4444444444444444,
              "#bd3786"
             ],
             [
              0.5555555555555556,
              "#d8576b"
             ],
             [
              0.6666666666666666,
              "#ed7953"
             ],
             [
              0.7777777777777778,
              "#fb9f3a"
             ],
             [
              0.8888888888888888,
              "#fdca26"
             ],
             [
              1,
              "#f0f921"
             ]
            ],
            "type": "heatmapgl"
           }
          ],
          "histogram": [
           {
            "marker": {
             "pattern": {
              "fillmode": "overlay",
              "size": 10,
              "solidity": 0.2
             }
            },
            "type": "histogram"
           }
          ],
          "histogram2d": [
           {
            "colorbar": {
             "outlinewidth": 0,
             "ticks": ""
            },
            "colorscale": [
             [
              0,
              "#0d0887"
             ],
             [
              0.1111111111111111,
              "#46039f"
             ],
             [
              0.2222222222222222,
              "#7201a8"
             ],
             [
              0.3333333333333333,
              "#9c179e"
             ],
             [
              0.4444444444444444,
              "#bd3786"
             ],
             [
              0.5555555555555556,
              "#d8576b"
             ],
             [
              0.6666666666666666,
              "#ed7953"
             ],
             [
              0.7777777777777778,
              "#fb9f3a"
             ],
             [
              0.8888888888888888,
              "#fdca26"
             ],
             [
              1,
              "#f0f921"
             ]
            ],
            "type": "histogram2d"
           }
          ],
          "histogram2dcontour": [
           {
            "colorbar": {
             "outlinewidth": 0,
             "ticks": ""
            },
            "colorscale": [
             [
              0,
              "#0d0887"
             ],
             [
              0.1111111111111111,
              "#46039f"
             ],
             [
              0.2222222222222222,
              "#7201a8"
             ],
             [
              0.3333333333333333,
              "#9c179e"
             ],
             [
              0.4444444444444444,
              "#bd3786"
             ],
             [
              0.5555555555555556,
              "#d8576b"
             ],
             [
              0.6666666666666666,
              "#ed7953"
             ],
             [
              0.7777777777777778,
              "#fb9f3a"
             ],
             [
              0.8888888888888888,
              "#fdca26"
             ],
             [
              1,
              "#f0f921"
             ]
            ],
            "type": "histogram2dcontour"
           }
          ],
          "mesh3d": [
           {
            "colorbar": {
             "outlinewidth": 0,
             "ticks": ""
            },
            "type": "mesh3d"
           }
          ],
          "parcoords": [
           {
            "line": {
             "colorbar": {
              "outlinewidth": 0,
              "ticks": ""
             }
            },
            "type": "parcoords"
           }
          ],
          "pie": [
           {
            "automargin": true,
            "type": "pie"
           }
          ],
          "scatter": [
           {
            "fillpattern": {
             "fillmode": "overlay",
             "size": 10,
             "solidity": 0.2
            },
            "type": "scatter"
           }
          ],
          "scatter3d": [
           {
            "line": {
             "colorbar": {
              "outlinewidth": 0,
              "ticks": ""
             }
            },
            "marker": {
             "colorbar": {
              "outlinewidth": 0,
              "ticks": ""
             }
            },
            "type": "scatter3d"
           }
          ],
          "scattercarpet": [
           {
            "marker": {
             "colorbar": {
              "outlinewidth": 0,
              "ticks": ""
             }
            },
            "type": "scattercarpet"
           }
          ],
          "scattergeo": [
           {
            "marker": {
             "colorbar": {
              "outlinewidth": 0,
              "ticks": ""
             }
            },
            "type": "scattergeo"
           }
          ],
          "scattergl": [
           {
            "marker": {
             "colorbar": {
              "outlinewidth": 0,
              "ticks": ""
             }
            },
            "type": "scattergl"
           }
          ],
          "scattermapbox": [
           {
            "marker": {
             "colorbar": {
              "outlinewidth": 0,
              "ticks": ""
             }
            },
            "type": "scattermapbox"
           }
          ],
          "scatterpolar": [
           {
            "marker": {
             "colorbar": {
              "outlinewidth": 0,
              "ticks": ""
             }
            },
            "type": "scatterpolar"
           }
          ],
          "scatterpolargl": [
           {
            "marker": {
             "colorbar": {
              "outlinewidth": 0,
              "ticks": ""
             }
            },
            "type": "scatterpolargl"
           }
          ],
          "scatterternary": [
           {
            "marker": {
             "colorbar": {
              "outlinewidth": 0,
              "ticks": ""
             }
            },
            "type": "scatterternary"
           }
          ],
          "surface": [
           {
            "colorbar": {
             "outlinewidth": 0,
             "ticks": ""
            },
            "colorscale": [
             [
              0,
              "#0d0887"
             ],
             [
              0.1111111111111111,
              "#46039f"
             ],
             [
              0.2222222222222222,
              "#7201a8"
             ],
             [
              0.3333333333333333,
              "#9c179e"
             ],
             [
              0.4444444444444444,
              "#bd3786"
             ],
             [
              0.5555555555555556,
              "#d8576b"
             ],
             [
              0.6666666666666666,
              "#ed7953"
             ],
             [
              0.7777777777777778,
              "#fb9f3a"
             ],
             [
              0.8888888888888888,
              "#fdca26"
             ],
             [
              1,
              "#f0f921"
             ]
            ],
            "type": "surface"
           }
          ],
          "table": [
           {
            "cells": {
             "fill": {
              "color": "#EBF0F8"
             },
             "line": {
              "color": "white"
             }
            },
            "header": {
             "fill": {
              "color": "#C8D4E3"
             },
             "line": {
              "color": "white"
             }
            },
            "type": "table"
           }
          ]
         },
         "layout": {
          "annotationdefaults": {
           "arrowcolor": "#2a3f5f",
           "arrowhead": 0,
           "arrowwidth": 1
          },
          "autotypenumbers": "strict",
          "coloraxis": {
           "colorbar": {
            "outlinewidth": 0,
            "ticks": ""
           }
          },
          "colorscale": {
           "diverging": [
            [
             0,
             "#8e0152"
            ],
            [
             0.1,
             "#c51b7d"
            ],
            [
             0.2,
             "#de77ae"
            ],
            [
             0.3,
             "#f1b6da"
            ],
            [
             0.4,
             "#fde0ef"
            ],
            [
             0.5,
             "#f7f7f7"
            ],
            [
             0.6,
             "#e6f5d0"
            ],
            [
             0.7,
             "#b8e186"
            ],
            [
             0.8,
             "#7fbc41"
            ],
            [
             0.9,
             "#4d9221"
            ],
            [
             1,
             "#276419"
            ]
           ],
           "sequential": [
            [
             0,
             "#0d0887"
            ],
            [
             0.1111111111111111,
             "#46039f"
            ],
            [
             0.2222222222222222,
             "#7201a8"
            ],
            [
             0.3333333333333333,
             "#9c179e"
            ],
            [
             0.4444444444444444,
             "#bd3786"
            ],
            [
             0.5555555555555556,
             "#d8576b"
            ],
            [
             0.6666666666666666,
             "#ed7953"
            ],
            [
             0.7777777777777778,
             "#fb9f3a"
            ],
            [
             0.8888888888888888,
             "#fdca26"
            ],
            [
             1,
             "#f0f921"
            ]
           ],
           "sequentialminus": [
            [
             0,
             "#0d0887"
            ],
            [
             0.1111111111111111,
             "#46039f"
            ],
            [
             0.2222222222222222,
             "#7201a8"
            ],
            [
             0.3333333333333333,
             "#9c179e"
            ],
            [
             0.4444444444444444,
             "#bd3786"
            ],
            [
             0.5555555555555556,
             "#d8576b"
            ],
            [
             0.6666666666666666,
             "#ed7953"
            ],
            [
             0.7777777777777778,
             "#fb9f3a"
            ],
            [
             0.8888888888888888,
             "#fdca26"
            ],
            [
             1,
             "#f0f921"
            ]
           ]
          },
          "colorway": [
           "#636efa",
           "#EF553B",
           "#00cc96",
           "#ab63fa",
           "#FFA15A",
           "#19d3f3",
           "#FF6692",
           "#B6E880",
           "#FF97FF",
           "#FECB52"
          ],
          "font": {
           "color": "#2a3f5f"
          },
          "geo": {
           "bgcolor": "white",
           "lakecolor": "white",
           "landcolor": "#E5ECF6",
           "showlakes": true,
           "showland": true,
           "subunitcolor": "white"
          },
          "hoverlabel": {
           "align": "left"
          },
          "hovermode": "closest",
          "mapbox": {
           "style": "light"
          },
          "paper_bgcolor": "white",
          "plot_bgcolor": "#E5ECF6",
          "polar": {
           "angularaxis": {
            "gridcolor": "white",
            "linecolor": "white",
            "ticks": ""
           },
           "bgcolor": "#E5ECF6",
           "radialaxis": {
            "gridcolor": "white",
            "linecolor": "white",
            "ticks": ""
           }
          },
          "scene": {
           "xaxis": {
            "backgroundcolor": "#E5ECF6",
            "gridcolor": "white",
            "gridwidth": 2,
            "linecolor": "white",
            "showbackground": true,
            "ticks": "",
            "zerolinecolor": "white"
           },
           "yaxis": {
            "backgroundcolor": "#E5ECF6",
            "gridcolor": "white",
            "gridwidth": 2,
            "linecolor": "white",
            "showbackground": true,
            "ticks": "",
            "zerolinecolor": "white"
           },
           "zaxis": {
            "backgroundcolor": "#E5ECF6",
            "gridcolor": "white",
            "gridwidth": 2,
            "linecolor": "white",
            "showbackground": true,
            "ticks": "",
            "zerolinecolor": "white"
           }
          },
          "shapedefaults": {
           "line": {
            "color": "#2a3f5f"
           }
          },
          "ternary": {
           "aaxis": {
            "gridcolor": "white",
            "linecolor": "white",
            "ticks": ""
           },
           "baxis": {
            "gridcolor": "white",
            "linecolor": "white",
            "ticks": ""
           },
           "bgcolor": "#E5ECF6",
           "caxis": {
            "gridcolor": "white",
            "linecolor": "white",
            "ticks": ""
           }
          },
          "title": {
           "x": 0.05
          },
          "xaxis": {
           "automargin": true,
           "gridcolor": "white",
           "linecolor": "white",
           "ticks": "",
           "title": {
            "standoff": 15
           },
           "zerolinecolor": "white",
           "zerolinewidth": 2
          },
          "yaxis": {
           "automargin": true,
           "gridcolor": "white",
           "linecolor": "white",
           "ticks": "",
           "title": {
            "standoff": 15
           },
           "zerolinecolor": "white",
           "zerolinewidth": 2
          }
         }
        },
        "title": {
         "text": "Mean Question Importance by Category"
        }
       }
      }
     },
     "metadata": {},
     "output_type": "display_data"
    }
   ],
   "source": [
    "# show radar plot\n",
    "imp_viz.show()"
   ]
  },
  {
   "cell_type": "markdown",
   "id": "d4e14b26",
   "metadata": {},
   "source": [
    "---"
   ]
  },
  {
   "cell_type": "markdown",
   "id": "7619d7ff",
   "metadata": {},
   "source": [
    "<div class=\"alert alert-block alert-warning\">\n",
    "    <b>How to use the <i>top_x_comp_nat</i> functions:</b> <br>\n",
    "This function displays a table that compares selected columns between your top county results.<br>\n",
    "    You should <b>only change the number at the end</b> to explore more or fewer counties within the table.\n",
    "</div>"
   ]
  },
  {
   "cell_type": "markdown",
   "id": "2329a664",
   "metadata": {},
   "source": [
    "#### Comparison of populations, income, housing, and commute across top counties"
   ]
  },
  {
   "cell_type": "code",
   "execution_count": 52,
   "id": "a6180e3d",
   "metadata": {},
   "outputs": [
    {
     "data": {
      "text/html": [
       "<div>\n",
       "<style scoped>\n",
       "    .dataframe tbody tr th:only-of-type {\n",
       "        vertical-align: middle;\n",
       "    }\n",
       "\n",
       "    .dataframe tbody tr th {\n",
       "        vertical-align: top;\n",
       "    }\n",
       "\n",
       "    .dataframe thead th {\n",
       "        text-align: right;\n",
       "    }\n",
       "</style>\n",
       "<table border=\"1\" class=\"dataframe\">\n",
       "  <thead>\n",
       "    <tr style=\"text-align: right;\">\n",
       "      <th>County</th>\n",
       "      <th>National Mean</th>\n",
       "      <th>Autauga County</th>\n",
       "      <th>Morrow County</th>\n",
       "      <th>Muskingum County</th>\n",
       "      <th>Noble County</th>\n",
       "      <th>Ottawa County</th>\n",
       "    </tr>\n",
       "  </thead>\n",
       "  <tbody>\n",
       "    <tr>\n",
       "      <th>State</th>\n",
       "      <td>National Mean</td>\n",
       "      <td>Alabama</td>\n",
       "      <td>Ohio</td>\n",
       "      <td>Ohio</td>\n",
       "      <td>Ohio</td>\n",
       "      <td>Ohio</td>\n",
       "    </tr>\n",
       "    <tr>\n",
       "      <th>Total Population</th>\n",
       "      <td>102398.3</td>\n",
       "      <td>55639.0</td>\n",
       "      <td>35148.0</td>\n",
       "      <td>86033.0</td>\n",
       "      <td>14410.0</td>\n",
       "      <td>40557.0</td>\n",
       "    </tr>\n",
       "    <tr>\n",
       "      <th>% Children Under 10</th>\n",
       "      <td>11.7</td>\n",
       "      <td>13.0</td>\n",
       "      <td>10.0</td>\n",
       "      <td>12.0</td>\n",
       "      <td>11.0</td>\n",
       "      <td>9.0</td>\n",
       "    </tr>\n",
       "    <tr>\n",
       "      <th>% Children 10 and Older</th>\n",
       "      <td>10.3</td>\n",
       "      <td>11.1</td>\n",
       "      <td>12.1</td>\n",
       "      <td>10.3</td>\n",
       "      <td>7.7</td>\n",
       "      <td>9.8</td>\n",
       "    </tr>\n",
       "    <tr>\n",
       "      <th>% Couples that are Same-Sex</th>\n",
       "      <td>1.0</td>\n",
       "      <td>0.8</td>\n",
       "      <td>2.8</td>\n",
       "      <td>0.9</td>\n",
       "      <td>1.6</td>\n",
       "      <td>0.3</td>\n",
       "    </tr>\n",
       "    <tr>\n",
       "      <th>% Population Over 25 with at Least a Bachelor Degree</th>\n",
       "      <td>22.6</td>\n",
       "      <td>28.0</td>\n",
       "      <td>15.0</td>\n",
       "      <td>17.0</td>\n",
       "      <td>11.0</td>\n",
       "      <td>24.0</td>\n",
       "    </tr>\n",
       "    <tr>\n",
       "      <th>Median Household Income (In 2020 Inflation Adjusted Dollars)</th>\n",
       "      <td>54167.5</td>\n",
       "      <td>57982.0</td>\n",
       "      <td>61769.0</td>\n",
       "      <td>48350.0</td>\n",
       "      <td>50070.0</td>\n",
       "      <td>59306.0</td>\n",
       "    </tr>\n",
       "    <tr>\n",
       "      <th>House Median Value</th>\n",
       "      <td>159679.2</td>\n",
       "      <td>161200.0</td>\n",
       "      <td>154900.0</td>\n",
       "      <td>126400.0</td>\n",
       "      <td>106100.0</td>\n",
       "      <td>154500.0</td>\n",
       "    </tr>\n",
       "    <tr>\n",
       "      <th>Median Gross Rent</th>\n",
       "      <td>782.8</td>\n",
       "      <td>1011.0</td>\n",
       "      <td>773.0</td>\n",
       "      <td>702.0</td>\n",
       "      <td>623.0</td>\n",
       "      <td>752.0</td>\n",
       "    </tr>\n",
       "    <tr>\n",
       "      <th>% Families with Income Below Poverty Level</th>\n",
       "      <td>11.2</td>\n",
       "      <td>12.7</td>\n",
       "      <td>5.9</td>\n",
       "      <td>11.7</td>\n",
       "      <td>10.0</td>\n",
       "      <td>5.4</td>\n",
       "    </tr>\n",
       "    <tr>\n",
       "      <th>Average Commute to Work (In Min)</th>\n",
       "      <td>24.1</td>\n",
       "      <td>25.0</td>\n",
       "      <td>29.0</td>\n",
       "      <td>24.0</td>\n",
       "      <td>29.0</td>\n",
       "      <td>24.0</td>\n",
       "    </tr>\n",
       "    <tr>\n",
       "      <th>% Civilian Population 18 Years and Over that is a Veteran</th>\n",
       "      <td>8.3</td>\n",
       "      <td>11.0</td>\n",
       "      <td>8.0</td>\n",
       "      <td>8.0</td>\n",
       "      <td>10.0</td>\n",
       "      <td>10.0</td>\n",
       "    </tr>\n",
       "  </tbody>\n",
       "</table>\n",
       "</div>"
      ],
      "text/plain": [
       "County                                              National Mean  \\\n",
       "State                                               National Mean   \n",
       "Total Population                                         102398.3   \n",
       "% Children Under 10                                          11.7   \n",
       "% Children 10 and Older                                      10.3   \n",
       "% Couples that are Same-Sex                                   1.0   \n",
       "% Population Over 25 with at Least a Bachelor D...           22.6   \n",
       "Median Household Income (In 2020 Inflation Adju...        54167.5   \n",
       "House Median Value                                       159679.2   \n",
       "Median Gross Rent                                           782.8   \n",
       "% Families with Income Below Poverty Level                   11.2   \n",
       "Average Commute to Work (In Min)                             24.1   \n",
       "% Civilian Population 18 Years and Over that is...            8.3   \n",
       "\n",
       "County                                             Autauga County  \\\n",
       "State                                                     Alabama   \n",
       "Total Population                                          55639.0   \n",
       "% Children Under 10                                          13.0   \n",
       "% Children 10 and Older                                      11.1   \n",
       "% Couples that are Same-Sex                                   0.8   \n",
       "% Population Over 25 with at Least a Bachelor D...           28.0   \n",
       "Median Household Income (In 2020 Inflation Adju...        57982.0   \n",
       "House Median Value                                       161200.0   \n",
       "Median Gross Rent                                          1011.0   \n",
       "% Families with Income Below Poverty Level                   12.7   \n",
       "Average Commute to Work (In Min)                             25.0   \n",
       "% Civilian Population 18 Years and Over that is...           11.0   \n",
       "\n",
       "County                                             Morrow County  \\\n",
       "State                                                       Ohio   \n",
       "Total Population                                         35148.0   \n",
       "% Children Under 10                                         10.0   \n",
       "% Children 10 and Older                                     12.1   \n",
       "% Couples that are Same-Sex                                  2.8   \n",
       "% Population Over 25 with at Least a Bachelor D...          15.0   \n",
       "Median Household Income (In 2020 Inflation Adju...       61769.0   \n",
       "House Median Value                                      154900.0   \n",
       "Median Gross Rent                                          773.0   \n",
       "% Families with Income Below Poverty Level                   5.9   \n",
       "Average Commute to Work (In Min)                            29.0   \n",
       "% Civilian Population 18 Years and Over that is...           8.0   \n",
       "\n",
       "County                                             Muskingum County  \\\n",
       "State                                                          Ohio   \n",
       "Total Population                                            86033.0   \n",
       "% Children Under 10                                            12.0   \n",
       "% Children 10 and Older                                        10.3   \n",
       "% Couples that are Same-Sex                                     0.9   \n",
       "% Population Over 25 with at Least a Bachelor D...             17.0   \n",
       "Median Household Income (In 2020 Inflation Adju...          48350.0   \n",
       "House Median Value                                         126400.0   \n",
       "Median Gross Rent                                             702.0   \n",
       "% Families with Income Below Poverty Level                     11.7   \n",
       "Average Commute to Work (In Min)                               24.0   \n",
       "% Civilian Population 18 Years and Over that is...              8.0   \n",
       "\n",
       "County                                             Noble County Ottawa County  \n",
       "State                                                      Ohio          Ohio  \n",
       "Total Population                                        14410.0       40557.0  \n",
       "% Children Under 10                                        11.0           9.0  \n",
       "% Children 10 and Older                                     7.7           9.8  \n",
       "% Couples that are Same-Sex                                 1.6           0.3  \n",
       "% Population Over 25 with at Least a Bachelor D...         11.0          24.0  \n",
       "Median Household Income (In 2020 Inflation Adju...      50070.0       59306.0  \n",
       "House Median Value                                     106100.0      154500.0  \n",
       "Median Gross Rent                                         623.0         752.0  \n",
       "% Families with Income Below Poverty Level                 10.0           5.4  \n",
       "Average Commute to Work (In Min)                           29.0          24.0  \n",
       "% Civilian Population 18 Years and Over that is...         10.0          10.0  "
      ]
     },
     "execution_count": 52,
     "metadata": {},
     "output_type": "execute_result"
    }
   ],
   "source": [
    "top_x_comp_nat(acs_d, acs_features, 5)"
   ]
  },
  {
   "cell_type": "markdown",
   "id": "bb209883",
   "metadata": {},
   "source": [
    "#### Comparison of household income groups across top counties"
   ]
  },
  {
   "cell_type": "code",
   "execution_count": 53,
   "id": "6b84111f",
   "metadata": {},
   "outputs": [],
   "source": [
    "# percentage of households within each household income group by county prep\n",
    "acs_topx_all.set_index('County', inplace=True)"
   ]
  },
  {
   "cell_type": "code",
   "execution_count": 54,
   "id": "7fcd86c2",
   "metadata": {},
   "outputs": [
    {
     "data": {
      "image/png": "[encoded data removed]",
      "text/plain": [
       "<Figure size 1200x600 with 1 Axes>"
      ]
     },
     "metadata": {},
     "output_type": "display_data"
    }
   ],
   "source": [
    "# create visualization for percentage of households\n",
    "acs_topx_all[household_income].plot(kind='bar', stacked=True, figsize=(12,6))\n",
    "plt.legend(bbox_to_anchor=(1,1), title=\"Household Income\", labels=household_income_legend)\n",
    "plt.title(\"Household Income Group by County\")\n",
    "plt.ylabel('% of Households')\n",
    "plt.xticks(rotation=45)\n",
    "plt.show()"
   ]
  },
  {
   "cell_type": "markdown",
   "id": "159841e7",
   "metadata": {},
   "source": [
    "#### Comparison of foreign-born populations by continent across top counties"
   ]
  },
  {
   "cell_type": "code",
   "execution_count": 55,
   "id": "9e9798bd",
   "metadata": {},
   "outputs": [
    {
     "data": {
      "text/html": [
       "<div>\n",
       "<style scoped>\n",
       "    .dataframe tbody tr th:only-of-type {\n",
       "        vertical-align: middle;\n",
       "    }\n",
       "\n",
       "    .dataframe tbody tr th {\n",
       "        vertical-align: top;\n",
       "    }\n",
       "\n",
       "    .dataframe thead th {\n",
       "        text-align: right;\n",
       "    }\n",
       "</style>\n",
       "<table border=\"1\" class=\"dataframe\">\n",
       "  <thead>\n",
       "    <tr style=\"text-align: right;\">\n",
       "      <th></th>\n",
       "      <th>% Foreign-Born Population: Africa</th>\n",
       "      <th>% Foreign-Born Population: Asia</th>\n",
       "      <th>% Foreign-Born Population: Europe</th>\n",
       "      <th>% Foreign-Born Population: Latin America</th>\n",
       "      <th>% Foreign-Born Population: Northern America</th>\n",
       "      <th>% Foreign-Born Population: Oceania</th>\n",
       "    </tr>\n",
       "    <tr>\n",
       "      <th>County</th>\n",
       "      <th></th>\n",
       "      <th></th>\n",
       "      <th></th>\n",
       "      <th></th>\n",
       "      <th></th>\n",
       "      <th></th>\n",
       "    </tr>\n",
       "  </thead>\n",
       "  <tbody>\n",
       "    <tr>\n",
       "      <th>Autauga County</th>\n",
       "      <td>0.00</td>\n",
       "      <td>0.00</td>\n",
       "      <td>0.00</td>\n",
       "      <td>0.00</td>\n",
       "      <td>0.00</td>\n",
       "      <td>0</td>\n",
       "    </tr>\n",
       "    <tr>\n",
       "      <th>Morrow County</th>\n",
       "      <td>0.03</td>\n",
       "      <td>0.45</td>\n",
       "      <td>0.54</td>\n",
       "      <td>0.06</td>\n",
       "      <td>0.09</td>\n",
       "      <td>0</td>\n",
       "    </tr>\n",
       "    <tr>\n",
       "      <th>Muskingum County</th>\n",
       "      <td>0.06</td>\n",
       "      <td>0.44</td>\n",
       "      <td>0.16</td>\n",
       "      <td>0.07</td>\n",
       "      <td>0.09</td>\n",
       "      <td>0</td>\n",
       "    </tr>\n",
       "    <tr>\n",
       "      <th>Noble County</th>\n",
       "      <td>0.08</td>\n",
       "      <td>0.00</td>\n",
       "      <td>0.06</td>\n",
       "      <td>0.42</td>\n",
       "      <td>0.00</td>\n",
       "      <td>0</td>\n",
       "    </tr>\n",
       "    <tr>\n",
       "      <th>Ottawa County</th>\n",
       "      <td>0.01</td>\n",
       "      <td>0.32</td>\n",
       "      <td>0.43</td>\n",
       "      <td>0.40</td>\n",
       "      <td>0.10</td>\n",
       "      <td>0</td>\n",
       "    </tr>\n",
       "  </tbody>\n",
       "</table>\n",
       "</div>"
      ],
      "text/plain": [
       "                  % Foreign-Born Population: Africa  \\\n",
       "County                                                \n",
       "Autauga County                                 0.00   \n",
       "Morrow County                                  0.03   \n",
       "Muskingum County                               0.06   \n",
       "Noble County                                   0.08   \n",
       "Ottawa County                                  0.01   \n",
       "\n",
       "                  % Foreign-Born Population: Asia  \\\n",
       "County                                              \n",
       "Autauga County                               0.00   \n",
       "Morrow County                                0.45   \n",
       "Muskingum County                             0.44   \n",
       "Noble County                                 0.00   \n",
       "Ottawa County                                0.32   \n",
       "\n",
       "                  % Foreign-Born Population: Europe  \\\n",
       "County                                                \n",
       "Autauga County                                 0.00   \n",
       "Morrow County                                  0.54   \n",
       "Muskingum County                               0.16   \n",
       "Noble County                                   0.06   \n",
       "Ottawa County                                  0.43   \n",
       "\n",
       "                  % Foreign-Born Population: Latin America  \\\n",
       "County                                                       \n",
       "Autauga County                                        0.00   \n",
       "Morrow County                                         0.06   \n",
       "Muskingum County                                      0.07   \n",
       "Noble County                                          0.42   \n",
       "Ottawa County                                         0.40   \n",
       "\n",
       "                  % Foreign-Born Population: Northern America  \\\n",
       "County                                                          \n",
       "Autauga County                                           0.00   \n",
       "Morrow County                                            0.09   \n",
       "Muskingum County                                         0.09   \n",
       "Noble County                                             0.00   \n",
       "Ottawa County                                            0.10   \n",
       "\n",
       "                  % Foreign-Born Population: Oceania  \n",
       "County                                                \n",
       "Autauga County                                     0  \n",
       "Morrow County                                      0  \n",
       "Muskingum County                                   0  \n",
       "Noble County                                       0  \n",
       "Ottawa County                                      0  "
      ]
     },
     "execution_count": 55,
     "metadata": {},
     "output_type": "execute_result"
    }
   ],
   "source": [
    "acs_topx_all[foreign_born]"
   ]
  },
  {
   "cell_type": "code",
   "execution_count": 56,
   "id": "ec4ad8a8",
   "metadata": {},
   "outputs": [
    {
     "data": {
      "image/png": "[encoded data removed]",
      "text/plain": [
       "<Figure size 1200x600 with 1 Axes>"
      ]
     },
     "metadata": {},
     "output_type": "display_data"
    }
   ],
   "source": [
    "acs_topx_all[foreign_born].plot(kind='bar', stacked=True, figsize=(12,6))\n",
    "plt.legend(bbox_to_anchor=(1,1), title=\"Origin Nationality\", labels=foreign_born_legend)\n",
    "plt.title(\"Foreign Born by Nationality\")\n",
    "plt.xlabel('County')\n",
    "plt.ylabel('% Population')\n",
    "plt.xticks(rotation=45)\n",
    "plt.show()"
   ]
  },
  {
   "cell_type": "markdown",
   "id": "614b0368",
   "metadata": {},
   "source": [
    "#### Comparison of schools and ratings within your top school districts"
   ]
  },
  {
   "cell_type": "code",
   "execution_count": 57,
   "id": "6990c071",
   "metadata": {},
   "outputs": [
    {
     "data": {
      "text/html": [
       "<div>\n",
       "<style scoped>\n",
       "    .dataframe tbody tr th:only-of-type {\n",
       "        vertical-align: middle;\n",
       "    }\n",
       "\n",
       "    .dataframe tbody tr th {\n",
       "        vertical-align: top;\n",
       "    }\n",
       "\n",
       "    .dataframe thead th {\n",
       "        text-align: right;\n",
       "    }\n",
       "</style>\n",
       "<table border=\"1\" class=\"dataframe\">\n",
       "  <thead>\n",
       "    <tr style=\"text-align: right;\">\n",
       "      <th>County</th>\n",
       "      <th>National Mean</th>\n",
       "      <th>Autauga County</th>\n",
       "    </tr>\n",
       "  </thead>\n",
       "  <tbody>\n",
       "    <tr>\n",
       "      <th>State</th>\n",
       "      <td>National Mean</td>\n",
       "      <td>Alabama</td>\n",
       "    </tr>\n",
       "    <tr>\n",
       "      <th>Number of All students</th>\n",
       "      <td>3145.2</td>\n",
       "      <td>9247.0</td>\n",
       "    </tr>\n",
       "    <tr>\n",
       "      <th>Total Student membership/Full-Time-Equvalent teachers</th>\n",
       "      <td>15.0</td>\n",
       "      <td>18.483333</td>\n",
       "    </tr>\n",
       "    <tr>\n",
       "      <th>SchoolDigger Number of Stars Elementary</th>\n",
       "      <td>2.6</td>\n",
       "      <td>3.0</td>\n",
       "    </tr>\n",
       "    <tr>\n",
       "      <th>SchoolDigger Number of Stars Middle</th>\n",
       "      <td>2.7</td>\n",
       "      <td>3.0</td>\n",
       "    </tr>\n",
       "    <tr>\n",
       "      <th>SchoolDigger Number of Stars High</th>\n",
       "      <td>2.7</td>\n",
       "      <td>3.0</td>\n",
       "    </tr>\n",
       "  </tbody>\n",
       "</table>\n",
       "</div>"
      ],
      "text/plain": [
       "County                                              National Mean  \\\n",
       "State                                               National Mean   \n",
       "Number of All students                                     3145.2   \n",
       "Total Student membership/Full-Time-Equvalent te...           15.0   \n",
       "SchoolDigger Number of Stars Elementary                       2.6   \n",
       "SchoolDigger Number of Stars Middle                           2.7   \n",
       "SchoolDigger Number of Stars High                             2.7   \n",
       "\n",
       "County                                             Autauga County  \n",
       "State                                                     Alabama  \n",
       "Number of All students                                     9247.0  \n",
       "Total Student membership/Full-Time-Equvalent te...      18.483333  \n",
       "SchoolDigger Number of Stars Elementary                       3.0  \n",
       "SchoolDigger Number of Stars Middle                           3.0  \n",
       "SchoolDigger Number of Stars High                             3.0  "
      ]
     },
     "execution_count": 57,
     "metadata": {},
     "output_type": "execute_result"
    }
   ],
   "source": [
    "top_x_comp_nat(sd_d, sd_features, 1)"
   ]
  },
  {
   "cell_type": "markdown",
   "id": "1462ec28",
   "metadata": {},
   "source": [
    "#### Comparison of crime rates between counties"
   ]
  },
  {
   "cell_type": "code",
   "execution_count": 58,
   "id": "639bdc54",
   "metadata": {},
   "outputs": [
    {
     "data": {
      "text/html": [
       "<div>\n",
       "<style scoped>\n",
       "    .dataframe tbody tr th:only-of-type {\n",
       "        vertical-align: middle;\n",
       "    }\n",
       "\n",
       "    .dataframe tbody tr th {\n",
       "        vertical-align: top;\n",
       "    }\n",
       "\n",
       "    .dataframe thead th {\n",
       "        text-align: right;\n",
       "    }\n",
       "</style>\n",
       "<table border=\"1\" class=\"dataframe\">\n",
       "  <thead>\n",
       "    <tr style=\"text-align: right;\">\n",
       "      <th>County</th>\n",
       "      <th>National Mean</th>\n",
       "      <th>Autauga County</th>\n",
       "      <th>Morrow County</th>\n",
       "      <th>Muskingum County</th>\n",
       "      <th>Noble County</th>\n",
       "      <th>Ottawa County</th>\n",
       "    </tr>\n",
       "  </thead>\n",
       "  <tbody>\n",
       "    <tr>\n",
       "      <th>State</th>\n",
       "      <td>National Mean</td>\n",
       "      <td>Alabama</td>\n",
       "      <td>Ohio</td>\n",
       "      <td>Ohio</td>\n",
       "      <td>Ohio</td>\n",
       "      <td>Ohio</td>\n",
       "    </tr>\n",
       "    <tr>\n",
       "      <th>Violent Crimes Rate</th>\n",
       "      <td>109.0</td>\n",
       "      <td>91.724969</td>\n",
       "      <td>22.808918</td>\n",
       "      <td>68.61183</td>\n",
       "      <td>34.664448</td>\n",
       "      <td>9.760621</td>\n",
       "    </tr>\n",
       "    <tr>\n",
       "      <th>Property Crimes Rate</th>\n",
       "      <td>568.3</td>\n",
       "      <td>669.052715</td>\n",
       "      <td>333.58043</td>\n",
       "      <td>1050.11</td>\n",
       "      <td>249.584027</td>\n",
       "      <td>529.5137</td>\n",
       "    </tr>\n",
       "  </tbody>\n",
       "</table>\n",
       "</div>"
      ],
      "text/plain": [
       "County                National Mean Autauga County Morrow County  \\\n",
       "State                 National Mean        Alabama          Ohio   \n",
       "Violent Crimes Rate           109.0      91.724969     22.808918   \n",
       "Property Crimes Rate          568.3     669.052715     333.58043   \n",
       "\n",
       "County               Muskingum County Noble County Ottawa County  \n",
       "State                            Ohio         Ohio          Ohio  \n",
       "Violent Crimes Rate          68.61183    34.664448      9.760621  \n",
       "Property Crimes Rate          1050.11   249.584027      529.5137  "
      ]
     },
     "execution_count": 58,
     "metadata": {},
     "output_type": "execute_result"
    }
   ],
   "source": [
    "top_x_comp_nat(fbi_d, fbi_features, 5)"
   ]
  },
  {
   "cell_type": "code",
   "execution_count": 59,
   "id": "0e3c7d58",
   "metadata": {},
   "outputs": [],
   "source": [
    "# get data for all years of top x counties\n",
    "fbi_top_x_all = get_top_x_year(fbi_d_all,5)[fbi_features_year].reset_index()\n",
    "\n",
    "# calculate national means by year\n",
    "fbi_d_grouped = fbi_d.reset_index()\n",
    "fbi_d_grouped_v = fbi_d_grouped.groupby(['Year'])['Violent Crimes Rate'].mean().reset_index()\n",
    "fbi_d_grouped_v['County'] = \"National Mean\"\n",
    "fbi_d_grouped_v['State'] = \"National Mean\"\n",
    "fbi_d_grouped_p = fbi_d_grouped.groupby(['Year'])['Property Crimes Rate'].mean().reset_index()\n",
    "fbi_d_grouped_p['County'] = \"National Mean\"\n",
    "fbi_d_grouped_p['State'] = \"National Mean\"\n",
    "\n",
    "# add national means to top x table\n",
    "fbi_top_x_comp_v = pd.concat([fbi_d_grouped_v, fbi_top_x_all],  join='inner', ignore_index=True)\n",
    "fbi_top_x_comp_p = pd.concat([fbi_d_grouped_p, fbi_top_x_all],  join='inner', ignore_index=True)"
   ]
  },
  {
   "cell_type": "code",
   "execution_count": 60,
   "id": "75ee28d8",
   "metadata": {},
   "outputs": [
    {
     "data": {
      "image/png": "[encoded data removed]",
      "text/plain": [
       "<Figure size 1400x400 with 2 Axes>"
      ]
     },
     "metadata": {},
     "output_type": "display_data"
    }
   ],
   "source": [
    "# create crime rate visualization\n",
    "fig, axes = plt.subplots(1,2, figsize=(14,4), sharey=False)\n",
    "sns.lineplot(data=fbi_top_x_comp_v, x='Year', y='Violent Crimes Rate', hue='County', ax=axes[0], legend=False).set(\n",
    "         title=\"Reported Violent Crimes Rate by County Over Time\")\n",
    "sns.lineplot(data=fbi_top_x_comp_p, x='Year', y='Property Crimes Rate', hue='County', ax=axes[1]).set(\n",
    "         title=\"Reported Property Crimes Rate by County Over Time\")\n",
    "plt.legend(bbox_to_anchor=(1,1));"
   ]
  },
  {
   "cell_type": "markdown",
   "id": "2d0b2b44",
   "metadata": {},
   "source": [
    "#### Comparison of terrain type across top counties"
   ]
  },
  {
   "cell_type": "code",
   "execution_count": 61,
   "id": "9a805b21",
   "metadata": {},
   "outputs": [
    {
     "data": {
      "text/html": [
       "<div>\n",
       "<style scoped>\n",
       "    .dataframe tbody tr th:only-of-type {\n",
       "        vertical-align: middle;\n",
       "    }\n",
       "\n",
       "    .dataframe tbody tr th {\n",
       "        vertical-align: top;\n",
       "    }\n",
       "\n",
       "    .dataframe thead th {\n",
       "        text-align: right;\n",
       "    }\n",
       "</style>\n",
       "<table border=\"1\" class=\"dataframe\">\n",
       "  <thead>\n",
       "    <tr style=\"text-align: right;\">\n",
       "      <th></th>\n",
       "      <th>County</th>\n",
       "      <th>State</th>\n",
       "      <th>Year</th>\n",
       "      <th>Farmland</th>\n",
       "      <th>Houses with lots of land</th>\n",
       "      <th>Suburbia</th>\n",
       "      <th>Big city</th>\n",
       "      <th>Forests</th>\n",
       "      <th>Open fields</th>\n",
       "      <th>Wetlands</th>\n",
       "      <th>Open water</th>\n",
       "      <th>Rock/Sand/Clay</th>\n",
       "      <th>Perennial ice/snow</th>\n",
       "    </tr>\n",
       "    <tr>\n",
       "      <th>FIPS</th>\n",
       "      <th></th>\n",
       "      <th></th>\n",
       "      <th></th>\n",
       "      <th></th>\n",
       "      <th></th>\n",
       "      <th></th>\n",
       "      <th></th>\n",
       "      <th></th>\n",
       "      <th></th>\n",
       "      <th></th>\n",
       "      <th></th>\n",
       "      <th></th>\n",
       "      <th></th>\n",
       "    </tr>\n",
       "  </thead>\n",
       "  <tbody>\n",
       "    <tr>\n",
       "      <th>1001</th>\n",
       "      <td>Autauga County</td>\n",
       "      <td>Alabama</td>\n",
       "      <td>2011</td>\n",
       "      <td>18.245288</td>\n",
       "      <td>5.425147</td>\n",
       "      <td>0.426098</td>\n",
       "      <td>0.113898</td>\n",
       "      <td>48.968160</td>\n",
       "      <td>19.409224</td>\n",
       "      <td>5.624540</td>\n",
       "      <td>1.520637</td>\n",
       "      <td>0.267008</td>\n",
       "      <td>0.0</td>\n",
       "    </tr>\n",
       "    <tr>\n",
       "      <th>39117</th>\n",
       "      <td>Morrow County</td>\n",
       "      <td>Ohio</td>\n",
       "      <td>2011</td>\n",
       "      <td>65.942136</td>\n",
       "      <td>6.885403</td>\n",
       "      <td>0.258046</td>\n",
       "      <td>0.062037</td>\n",
       "      <td>25.497212</td>\n",
       "      <td>0.538619</td>\n",
       "      <td>0.384082</td>\n",
       "      <td>0.429479</td>\n",
       "      <td>0.002987</td>\n",
       "      <td>0.0</td>\n",
       "    </tr>\n",
       "    <tr>\n",
       "      <th>39119</th>\n",
       "      <td>Muskingum County</td>\n",
       "      <td>Ohio</td>\n",
       "      <td>2011</td>\n",
       "      <td>29.879816</td>\n",
       "      <td>9.013120</td>\n",
       "      <td>0.721196</td>\n",
       "      <td>0.292787</td>\n",
       "      <td>54.491474</td>\n",
       "      <td>3.591050</td>\n",
       "      <td>0.200616</td>\n",
       "      <td>1.432473</td>\n",
       "      <td>0.377467</td>\n",
       "      <td>0.0</td>\n",
       "    </tr>\n",
       "    <tr>\n",
       "      <th>39121</th>\n",
       "      <td>Noble County</td>\n",
       "      <td>Ohio</td>\n",
       "      <td>2011</td>\n",
       "      <td>18.130493</td>\n",
       "      <td>7.496631</td>\n",
       "      <td>0.169037</td>\n",
       "      <td>0.031952</td>\n",
       "      <td>68.078485</td>\n",
       "      <td>4.108249</td>\n",
       "      <td>0.059180</td>\n",
       "      <td>1.373339</td>\n",
       "      <td>0.552634</td>\n",
       "      <td>0.0</td>\n",
       "    </tr>\n",
       "    <tr>\n",
       "      <th>39123</th>\n",
       "      <td>Ottawa County</td>\n",
       "      <td>Ohio</td>\n",
       "      <td>2011</td>\n",
       "      <td>60.556064</td>\n",
       "      <td>12.468848</td>\n",
       "      <td>2.031504</td>\n",
       "      <td>0.746459</td>\n",
       "      <td>3.646739</td>\n",
       "      <td>2.369674</td>\n",
       "      <td>12.151872</td>\n",
       "      <td>4.581317</td>\n",
       "      <td>1.447524</td>\n",
       "      <td>0.0</td>\n",
       "    </tr>\n",
       "  </tbody>\n",
       "</table>\n",
       "</div>"
      ],
      "text/plain": [
       "                 County    State  Year   Farmland  Houses with lots of land  \\\n",
       "FIPS                                                                          \n",
       "1001     Autauga County  Alabama  2011  18.245288                  5.425147   \n",
       "39117     Morrow County     Ohio  2011  65.942136                  6.885403   \n",
       "39119  Muskingum County     Ohio  2011  29.879816                  9.013120   \n",
       "39121      Noble County     Ohio  2011  18.130493                  7.496631   \n",
       "39123     Ottawa County     Ohio  2011  60.556064                 12.468848   \n",
       "\n",
       "       Suburbia  Big city    Forests  Open fields   Wetlands  Open water  \\\n",
       "FIPS                                                                       \n",
       "1001   0.426098  0.113898  48.968160    19.409224   5.624540    1.520637   \n",
       "39117  0.258046  0.062037  25.497212     0.538619   0.384082    0.429479   \n",
       "39119  0.721196  0.292787  54.491474     3.591050   0.200616    1.432473   \n",
       "39121  0.169037  0.031952  68.078485     4.108249   0.059180    1.373339   \n",
       "39123  2.031504  0.746459   3.646739     2.369674  12.151872    4.581317   \n",
       "\n",
       "       Rock/Sand/Clay  Perennial ice/snow  \n",
       "FIPS                                       \n",
       "1001         0.267008                 0.0  \n",
       "39117        0.002987                 0.0  \n",
       "39119        0.377467                 0.0  \n",
       "39121        0.552634                 0.0  \n",
       "39123        1.447524                 0.0  "
      ]
     },
     "execution_count": 61,
     "metadata": {},
     "output_type": "execute_result"
    }
   ],
   "source": [
    "ter_top_x_year = get_top_x_year(ter_d, 5)[ter_features_year]\n",
    "ter_top_x_year"
   ]
  },
  {
   "cell_type": "code",
   "execution_count": 62,
   "id": "992e9612",
   "metadata": {},
   "outputs": [],
   "source": [
    "# terrain type visualization prep\n",
    "ter_top_x_year.set_index('County', inplace=True)\n",
    "ter_top_x_year = ter_top_x_year.loc[:,ter_top_x_year.columns != 'Year']"
   ]
  },
  {
   "cell_type": "code",
   "execution_count": 63,
   "id": "02920fbd",
   "metadata": {},
   "outputs": [
    {
     "data": {
      "image/png": "[encoded data removed]",
      "text/plain": [
       "<Figure size 1200x600 with 1 Axes>"
      ]
     },
     "metadata": {},
     "output_type": "display_data"
    }
   ],
   "source": [
    "# create visualization for terrain comparison\n",
    "ter_top_x_year.plot(kind='barh', stacked=True, figsize=(12,6))\n",
    "plt.legend(bbox_to_anchor=(1,1), title=\"Terrain Types\")\n",
    "plt.title(\"Terrain Type by County\")\n",
    "plt.xlabel('% of Terrain')\n",
    "plt.xticks(rotation=45)\n",
    "plt.show()"
   ]
  },
  {
   "cell_type": "markdown",
   "id": "8602d005",
   "metadata": {},
   "source": [
    "#### Comparison of tax rates by state for top 10 counties"
   ]
  },
  {
   "cell_type": "code",
   "execution_count": 64,
   "id": "1d017ce7",
   "metadata": {},
   "outputs": [],
   "source": [
    "# visualization prep\n",
    "top_states = FIPS_d.head()['State']\n",
    "tax_vis_d = tax_d[tax_d['State'].isin(top_states)].set_index('State')\n",
    "tax_vis_d_low = pd.DataFrame(tax_vis_d, columns=tax_features_low)\n",
    "tax_vis_d_high = pd.DataFrame(tax_vis_d, columns=tax_features_high)"
   ]
  },
  {
   "cell_type": "code",
   "execution_count": 65,
   "id": "74651305",
   "metadata": {},
   "outputs": [
    {
     "data": {
      "image/png": "[encoded data removed]",
      "text/plain": [
       "<Figure size 1400x400 with 2 Axes>"
      ]
     },
     "metadata": {},
     "output_type": "display_data"
    }
   ],
   "source": [
    "# create tax rate visualization\n",
    "fig, axes = plt.subplots(1,2, figsize=(14,4), sharey=True)\n",
    "tax_vis_d_low.plot(kind='bar', stacked=True, ax=axes[0], legend=False).set(\n",
    "         title=\"Cumulative Taxes (Lowest Income Tax Bracket)\")\n",
    "tax_vis_d_high.plot(kind='bar', stacked=True, ax=axes[1]).set(\n",
    "         title=\"Cumulative Taxes (Highest Income Tax Bracket)\")\n",
    "plt.legend(bbox_to_anchor=(1,1))\n",
    "for ax in axes.flatten():\n",
    "    plt.sca(ax)\n",
    "    plt.xticks(rotation=30)\n",
    "    plt.ylabel('Cumulative Tax %')\n",
    "plt.show();"
   ]
  },
  {
   "cell_type": "markdown",
   "id": "f1fb3f87",
   "metadata": {},
   "source": [
    "#### Comparison of weather by state of top counties"
   ]
  },
  {
   "cell_type": "code",
   "execution_count": 66,
   "id": "a795e2cb",
   "metadata": {},
   "outputs": [
    {
     "data": {
      "text/html": [
       "<div>\n",
       "<style scoped>\n",
       "    .dataframe tbody tr th:only-of-type {\n",
       "        vertical-align: middle;\n",
       "    }\n",
       "\n",
       "    .dataframe tbody tr th {\n",
       "        vertical-align: top;\n",
       "    }\n",
       "\n",
       "    .dataframe thead th {\n",
       "        text-align: right;\n",
       "    }\n",
       "</style>\n",
       "<table border=\"1\" class=\"dataframe\">\n",
       "  <thead>\n",
       "    <tr style=\"text-align: right;\">\n",
       "      <th></th>\n",
       "      <th>Winter Avg temp (F)</th>\n",
       "      <th>Summer Avg temp (F)</th>\n",
       "      <th>Avg Yearly Rainfall (in)</th>\n",
       "      <th>Yearly snowfall (in)</th>\n",
       "      <th>Hours Sunshine Daily</th>\n",
       "      <th>Clear Days</th>\n",
       "      <th>Days with Snow</th>\n",
       "    </tr>\n",
       "    <tr>\n",
       "      <th>State</th>\n",
       "      <th></th>\n",
       "      <th></th>\n",
       "      <th></th>\n",
       "      <th></th>\n",
       "      <th></th>\n",
       "      <th></th>\n",
       "      <th></th>\n",
       "    </tr>\n",
       "  </thead>\n",
       "  <tbody>\n",
       "    <tr>\n",
       "      <th>Alabama</th>\n",
       "      <td>46.5</td>\n",
       "      <td>78.6</td>\n",
       "      <td>58.3</td>\n",
       "      <td>1.6</td>\n",
       "      <td>7.2</td>\n",
       "      <td>99</td>\n",
       "      <td>0.8</td>\n",
       "    </tr>\n",
       "    <tr>\n",
       "      <th>Ohio</th>\n",
       "      <td>29.5</td>\n",
       "      <td>70.9</td>\n",
       "      <td>39.1</td>\n",
       "      <td>27.5</td>\n",
       "      <td>6.0</td>\n",
       "      <td>72</td>\n",
       "      <td>30.4</td>\n",
       "    </tr>\n",
       "  </tbody>\n",
       "</table>\n",
       "</div>"
      ],
      "text/plain": [
       "         Winter Avg temp (F)  Summer Avg temp (F)  Avg Yearly Rainfall (in)  \\\n",
       "State                                                                         \n",
       "Alabama                 46.5                 78.6                      58.3   \n",
       "Ohio                    29.5                 70.9                      39.1   \n",
       "\n",
       "         Yearly snowfall (in)  Hours Sunshine Daily  Clear Days  \\\n",
       "State                                                             \n",
       "Alabama                   1.6                   7.2          99   \n",
       "Ohio                     27.5                   6.0          72   \n",
       "\n",
       "         Days with Snow  \n",
       "State                    \n",
       "Alabama             0.8  \n",
       "Ohio               30.4  "
      ]
     },
     "execution_count": 66,
     "metadata": {},
     "output_type": "execute_result"
    }
   ],
   "source": [
    "wth_top_d = wth_d[wth_d['State'].isin(top_states)].set_index('State')\n",
    "wth_top_d = pd.DataFrame(wth_top_d, columns=wth_features)\n",
    "wth_top_d"
   ]
  },
  {
   "cell_type": "markdown",
   "id": "7ba49238",
   "metadata": {},
   "source": [
    "#### Comparison of Presidential votes by party"
   ]
  },
  {
   "cell_type": "code",
   "execution_count": 67,
   "id": "fe07486e",
   "metadata": {},
   "outputs": [
    {
     "name": "stderr",
     "output_type": "stream",
     "text": [
      "/var/folders/c4/44txy79x4x95gzrg3pt9mxs00000gn/T/ipykernel_54401/565081932.py:17: FutureWarning:\n",
      "\n",
      "The default value of numeric_only in DataFrame.mean is deprecated. In a future version, it will default to False. In addition, specifying 'numeric_only=None' is deprecated. Select only valid columns or specify the value of numeric_only to silence this warning.\n",
      "\n"
     ]
    },
    {
     "data": {
      "text/html": [
       "<div>\n",
       "<style scoped>\n",
       "    .dataframe tbody tr th:only-of-type {\n",
       "        vertical-align: middle;\n",
       "    }\n",
       "\n",
       "    .dataframe tbody tr th {\n",
       "        vertical-align: top;\n",
       "    }\n",
       "\n",
       "    .dataframe thead th {\n",
       "        text-align: right;\n",
       "    }\n",
       "</style>\n",
       "<table border=\"1\" class=\"dataframe\">\n",
       "  <thead>\n",
       "    <tr style=\"text-align: right;\">\n",
       "      <th>County</th>\n",
       "      <th>National Mean</th>\n",
       "      <th>Autauga County</th>\n",
       "      <th>Morrow County</th>\n",
       "      <th>Muskingum County</th>\n",
       "      <th>Noble County</th>\n",
       "    </tr>\n",
       "  </thead>\n",
       "  <tbody>\n",
       "    <tr>\n",
       "      <th>State</th>\n",
       "      <td>National Mean</td>\n",
       "      <td>Alabama</td>\n",
       "      <td>Ohio</td>\n",
       "      <td>Ohio</td>\n",
       "      <td>Ohio</td>\n",
       "    </tr>\n",
       "    <tr>\n",
       "      <th>Democrat</th>\n",
       "      <td>33.1</td>\n",
       "      <td>27.02</td>\n",
       "      <td>21.93</td>\n",
       "      <td>29.58</td>\n",
       "      <td>18.45</td>\n",
       "    </tr>\n",
       "    <tr>\n",
       "      <th>Libertarian</th>\n",
       "      <td>0.9</td>\n",
       "      <td>0.0</td>\n",
       "      <td>1.39</td>\n",
       "      <td>1.13</td>\n",
       "      <td>0.39</td>\n",
       "    </tr>\n",
       "    <tr>\n",
       "      <th>Green</th>\n",
       "      <td>0.1</td>\n",
       "      <td>0.0</td>\n",
       "      <td>0.0</td>\n",
       "      <td>0.0</td>\n",
       "      <td>0.0</td>\n",
       "    </tr>\n",
       "    <tr>\n",
       "      <th>Republican</th>\n",
       "      <td>64.4</td>\n",
       "      <td>71.44</td>\n",
       "      <td>76.27</td>\n",
       "      <td>68.87</td>\n",
       "      <td>80.96</td>\n",
       "    </tr>\n",
       "    <tr>\n",
       "      <th>Other</th>\n",
       "      <td>1.5</td>\n",
       "      <td>1.54</td>\n",
       "      <td>0.41</td>\n",
       "      <td>0.42</td>\n",
       "      <td>0.2</td>\n",
       "    </tr>\n",
       "  </tbody>\n",
       "</table>\n",
       "</div>"
      ],
      "text/plain": [
       "County       National Mean Autauga County Morrow County Muskingum County  \\\n",
       "State        National Mean        Alabama          Ohio             Ohio   \n",
       "Democrat              33.1          27.02         21.93            29.58   \n",
       "Libertarian            0.9            0.0          1.39             1.13   \n",
       "Green                  0.1            0.0           0.0              0.0   \n",
       "Republican            64.4          71.44         76.27            68.87   \n",
       "Other                  1.5           1.54          0.41             0.42   \n",
       "\n",
       "County      Noble County  \n",
       "State               Ohio  \n",
       "Democrat           18.45  \n",
       "Libertarian         0.39  \n",
       "Green                0.0  \n",
       "Republican         80.96  \n",
       "Other                0.2  "
      ]
     },
     "execution_count": 67,
     "metadata": {},
     "output_type": "execute_result"
    }
   ],
   "source": [
    "top_x_comp_nat(pol_d, pol_features, 4)"
   ]
  },
  {
   "cell_type": "code",
   "execution_count": 68,
   "id": "0d9442fb",
   "metadata": {
    "scrolled": true
   },
   "outputs": [
    {
     "data": {
      "image/png": "[encoded data removed]",
      "text/plain": [
       "<Figure size 1400x400 with 4 Axes>"
      ]
     },
     "metadata": {},
     "output_type": "display_data"
    }
   ],
   "source": [
    "# presidential politics over time of top four counties: visual\n",
    "fig, axes = plt.subplots(1,4, figsize=(14,4), sharey=True)\n",
    "fig.suptitle('Votes by Party for Presidential Elections Over Time')\n",
    "axes[0].stackplot(county_0_years, y1_0, y2_0, y3_0, y4_0, y5_0, labels=parties)\n",
    "axes[0].set_title(county_0_name)\n",
    "axes[1].stackplot(county_1_years, y1_1, y2_1, y3_1, y4_1, y5_1, labels=parties)\n",
    "axes[1].set_title(county_1_name)\n",
    "axes[2].stackplot(county_2_years, y1_2, y2_2, y3_2, y4_2, y5_2, labels=parties)\n",
    "axes[2].set_title(county_2_name)\n",
    "axes[3].stackplot(county_3_years, y1_3, y2_3, y3_3, y4_3, y5_3, labels=parties)\n",
    "axes[3].set_title(county_3_name)\n",
    "axes[0].set_ylabel('Percentage of Votes')\n",
    "plt.legend(bbox_to_anchor=(1.7,1))\n",
    "plt.show();"
   ]
  },
  {
   "cell_type": "markdown",
   "id": "55d79a59",
   "metadata": {},
   "source": [
    "#### Comparison of health statistics of top counties"
   ]
  },
  {
   "cell_type": "code",
   "execution_count": 69,
   "id": "03f6133f",
   "metadata": {},
   "outputs": [
    {
     "data": {
      "text/html": [
       "<div>\n",
       "<style scoped>\n",
       "    .dataframe tbody tr th:only-of-type {\n",
       "        vertical-align: middle;\n",
       "    }\n",
       "\n",
       "    .dataframe tbody tr th {\n",
       "        vertical-align: top;\n",
       "    }\n",
       "\n",
       "    .dataframe thead th {\n",
       "        text-align: right;\n",
       "    }\n",
       "</style>\n",
       "<table border=\"1\" class=\"dataframe\">\n",
       "  <thead>\n",
       "    <tr style=\"text-align: right;\">\n",
       "      <th></th>\n",
       "      <th>County</th>\n",
       "      <th>State</th>\n",
       "      <th>Year</th>\n",
       "      <th>Primary Care Physicians (PCP) Rate Per 100,000 Population</th>\n",
       "      <th>Mental Health Providers (MHP) Rate Per 100,000 Population</th>\n",
       "      <th>Dentists Rate Per 100,000 Population</th>\n",
       "      <th>Percent Adults With Limited Access To Doctor Due To Costs</th>\n",
       "      <th>Percent Persons With Limited Access To Healthy Foods</th>\n",
       "      <th>Percent Physically Inactive Persons (20 Years And Over)</th>\n",
       "      <th>Percent Obese Persons (20 Years And Over)</th>\n",
       "      <th>Percent Adults That Report Fair Or Poor Health (Persons 18 Years And Over)</th>\n",
       "      <th>Percent Current Smokers (Persons 18 Years And Over)</th>\n",
       "      <th>Percent Drinking Adults (Persons 18 Years And Over)</th>\n",
       "      <th>STI Rate Per 100,000 Population</th>\n",
       "      <th>Child Mortality Rate Per 100,000 Population</th>\n",
       "      <th>Teen Births Rate Per 1,000 Population (Females 15 To 19 Years)</th>\n",
       "      <th>Infant Mortality Rate Per 1,000 Live Births</th>\n",
       "      <th>Percent Low Birthweight Births (&lt;2.5Kg)</th>\n",
       "    </tr>\n",
       "    <tr>\n",
       "      <th>FIPS</th>\n",
       "      <th></th>\n",
       "      <th></th>\n",
       "      <th></th>\n",
       "      <th></th>\n",
       "      <th></th>\n",
       "      <th></th>\n",
       "      <th></th>\n",
       "      <th></th>\n",
       "      <th></th>\n",
       "      <th></th>\n",
       "      <th></th>\n",
       "      <th></th>\n",
       "      <th></th>\n",
       "      <th></th>\n",
       "      <th></th>\n",
       "      <th></th>\n",
       "      <th></th>\n",
       "      <th></th>\n",
       "    </tr>\n",
       "  </thead>\n",
       "  <tbody>\n",
       "    <tr>\n",
       "      <th>1001</th>\n",
       "      <td>Autauga County</td>\n",
       "      <td>Alabama</td>\n",
       "      <td>2020</td>\n",
       "      <td>45.04180</td>\n",
       "      <td>23.38087</td>\n",
       "      <td>32.37352</td>\n",
       "      <td>19.702589</td>\n",
       "      <td>11.991125</td>\n",
       "      <td>34.694036</td>\n",
       "      <td>33.3</td>\n",
       "      <td>20.882987</td>\n",
       "      <td>18.081557</td>\n",
       "      <td>15.026031</td>\n",
       "      <td>626.3</td>\n",
       "      <td>55.922156</td>\n",
       "      <td>29.915422</td>\n",
       "      <td>7.940109</td>\n",
       "      <td>8.619529</td>\n",
       "    </tr>\n",
       "    <tr>\n",
       "      <th>39117</th>\n",
       "      <td>Morrow County</td>\n",
       "      <td>Ohio</td>\n",
       "      <td>2020</td>\n",
       "      <td>17.14580</td>\n",
       "      <td>48.41650</td>\n",
       "      <td>17.08817</td>\n",
       "      <td>13.476450</td>\n",
       "      <td>0.161707</td>\n",
       "      <td>35.680125</td>\n",
       "      <td>39.2</td>\n",
       "      <td>15.992368</td>\n",
       "      <td>18.522719</td>\n",
       "      <td>17.984381</td>\n",
       "      <td>266.7</td>\n",
       "      <td>51.541703</td>\n",
       "      <td>17.774465</td>\n",
       "      <td>6.999795</td>\n",
       "      <td>7.161410</td>\n",
       "    </tr>\n",
       "    <tr>\n",
       "      <th>39119</th>\n",
       "      <td>Muskingum County</td>\n",
       "      <td>Ohio</td>\n",
       "      <td>2020</td>\n",
       "      <td>67.32522</td>\n",
       "      <td>164.76567</td>\n",
       "      <td>64.97801</td>\n",
       "      <td>14.457913</td>\n",
       "      <td>10.243849</td>\n",
       "      <td>33.524279</td>\n",
       "      <td>36.6</td>\n",
       "      <td>18.918896</td>\n",
       "      <td>19.755120</td>\n",
       "      <td>17.958294</td>\n",
       "      <td>538.4</td>\n",
       "      <td>54.575454</td>\n",
       "      <td>30.599421</td>\n",
       "      <td>5.942275</td>\n",
       "      <td>8.236610</td>\n",
       "    </tr>\n",
       "    <tr>\n",
       "      <th>39121</th>\n",
       "      <td>Noble County</td>\n",
       "      <td>Ohio</td>\n",
       "      <td>2020</td>\n",
       "      <td>20.82466</td>\n",
       "      <td>97.53379</td>\n",
       "      <td>20.90010</td>\n",
       "      <td>14.749330</td>\n",
       "      <td>13.305813</td>\n",
       "      <td>33.501247</td>\n",
       "      <td>38.9</td>\n",
       "      <td>15.797668</td>\n",
       "      <td>17.192075</td>\n",
       "      <td>16.128255</td>\n",
       "      <td>396.2</td>\n",
       "      <td>68.322240</td>\n",
       "      <td>24.718080</td>\n",
       "      <td>7.129625</td>\n",
       "      <td>6.204757</td>\n",
       "    </tr>\n",
       "    <tr>\n",
       "      <th>39123</th>\n",
       "      <td>Ottawa County</td>\n",
       "      <td>Ohio</td>\n",
       "      <td>2020</td>\n",
       "      <td>44.27282</td>\n",
       "      <td>78.49101</td>\n",
       "      <td>44.15119</td>\n",
       "      <td>12.732874</td>\n",
       "      <td>6.912779</td>\n",
       "      <td>29.739662</td>\n",
       "      <td>33.9</td>\n",
       "      <td>14.400643</td>\n",
       "      <td>16.663436</td>\n",
       "      <td>16.596512</td>\n",
       "      <td>245.2</td>\n",
       "      <td>48.851979</td>\n",
       "      <td>16.780114</td>\n",
       "      <td>6.267489</td>\n",
       "      <td>6.876061</td>\n",
       "    </tr>\n",
       "  </tbody>\n",
       "</table>\n",
       "</div>"
      ],
      "text/plain": [
       "                 County    State  Year  \\\n",
       "FIPS                                     \n",
       "1001     Autauga County  Alabama  2020   \n",
       "39117     Morrow County     Ohio  2020   \n",
       "39119  Muskingum County     Ohio  2020   \n",
       "39121      Noble County     Ohio  2020   \n",
       "39123     Ottawa County     Ohio  2020   \n",
       "\n",
       "       Primary Care Physicians (PCP) Rate Per 100,000 Population  \\\n",
       "FIPS                                                               \n",
       "1001                                            45.04180           \n",
       "39117                                           17.14580           \n",
       "39119                                           67.32522           \n",
       "39121                                           20.82466           \n",
       "39123                                           44.27282           \n",
       "\n",
       "       Mental Health Providers (MHP) Rate Per 100,000 Population  \\\n",
       "FIPS                                                               \n",
       "1001                                            23.38087           \n",
       "39117                                           48.41650           \n",
       "39119                                          164.76567           \n",
       "39121                                           97.53379           \n",
       "39123                                           78.49101           \n",
       "\n",
       "       Dentists Rate Per 100,000 Population  \\\n",
       "FIPS                                          \n",
       "1001                               32.37352   \n",
       "39117                              17.08817   \n",
       "39119                              64.97801   \n",
       "39121                              20.90010   \n",
       "39123                              44.15119   \n",
       "\n",
       "       Percent Adults With Limited Access To Doctor Due To Costs  \\\n",
       "FIPS                                                               \n",
       "1001                                           19.702589           \n",
       "39117                                          13.476450           \n",
       "39119                                          14.457913           \n",
       "39121                                          14.749330           \n",
       "39123                                          12.732874           \n",
       "\n",
       "       Percent Persons With Limited Access To Healthy Foods  \\\n",
       "FIPS                                                          \n",
       "1001                                           11.991125      \n",
       "39117                                           0.161707      \n",
       "39119                                          10.243849      \n",
       "39121                                          13.305813      \n",
       "39123                                           6.912779      \n",
       "\n",
       "       Percent Physically Inactive Persons (20 Years And Over)  \\\n",
       "FIPS                                                             \n",
       "1001                                           34.694036         \n",
       "39117                                          35.680125         \n",
       "39119                                          33.524279         \n",
       "39121                                          33.501247         \n",
       "39123                                          29.739662         \n",
       "\n",
       "       Percent Obese Persons (20 Years And Over)  \\\n",
       "FIPS                                               \n",
       "1001                                        33.3   \n",
       "39117                                       39.2   \n",
       "39119                                       36.6   \n",
       "39121                                       38.9   \n",
       "39123                                       33.9   \n",
       "\n",
       "       Percent Adults That Report Fair Or Poor Health (Persons 18 Years And Over)  \\\n",
       "FIPS                                                                                \n",
       "1001                                           20.882987                            \n",
       "39117                                          15.992368                            \n",
       "39119                                          18.918896                            \n",
       "39121                                          15.797668                            \n",
       "39123                                          14.400643                            \n",
       "\n",
       "       Percent Current Smokers (Persons 18 Years And Over)  \\\n",
       "FIPS                                                         \n",
       "1001                                           18.081557     \n",
       "39117                                          18.522719     \n",
       "39119                                          19.755120     \n",
       "39121                                          17.192075     \n",
       "39123                                          16.663436     \n",
       "\n",
       "       Percent Drinking Adults (Persons 18 Years And Over)  \\\n",
       "FIPS                                                         \n",
       "1001                                           15.026031     \n",
       "39117                                          17.984381     \n",
       "39119                                          17.958294     \n",
       "39121                                          16.128255     \n",
       "39123                                          16.596512     \n",
       "\n",
       "       STI Rate Per 100,000 Population  \\\n",
       "FIPS                                     \n",
       "1001                             626.3   \n",
       "39117                            266.7   \n",
       "39119                            538.4   \n",
       "39121                            396.2   \n",
       "39123                            245.2   \n",
       "\n",
       "       Child Mortality Rate Per 100,000 Population  \\\n",
       "FIPS                                                 \n",
       "1001                                     55.922156   \n",
       "39117                                    51.541703   \n",
       "39119                                    54.575454   \n",
       "39121                                    68.322240   \n",
       "39123                                    48.851979   \n",
       "\n",
       "       Teen Births Rate Per 1,000 Population (Females 15 To 19 Years)  \\\n",
       "FIPS                                                                    \n",
       "1001                                           29.915422                \n",
       "39117                                          17.774465                \n",
       "39119                                          30.599421                \n",
       "39121                                          24.718080                \n",
       "39123                                          16.780114                \n",
       "\n",
       "       Infant Mortality Rate Per 1,000 Live Births  \\\n",
       "FIPS                                                 \n",
       "1001                                      7.940109   \n",
       "39117                                     6.999795   \n",
       "39119                                     5.942275   \n",
       "39121                                     7.129625   \n",
       "39123                                     6.267489   \n",
       "\n",
       "       Percent Low Birthweight Births (<2.5Kg)  \n",
       "FIPS                                            \n",
       "1001                                  8.619529  \n",
       "39117                                 7.161410  \n",
       "39119                                 8.236610  \n",
       "39121                                 6.204757  \n",
       "39123                                 6.876061  "
      ]
     },
     "execution_count": 69,
     "metadata": {},
     "output_type": "execute_result"
    }
   ],
   "source": [
    "get_top_x_year(hth_d, 5)[hth_features_year]"
   ]
  }
 ],
 "metadata": {
  "kernelspec": {
   "display_name": "siads699",
   "language": "python",
   "name": "python3"
  },
  "language_info": {
   "codemirror_mode": {
    "name": "ipython",
    "version": 3
   },
   "file_extension": ".py",
   "mimetype": "text/x-python",
   "name": "python",
   "nbconvert_exporter": "python",
   "pygments_lexer": "ipython3",
   "version": "3.10.8"
  },
  "vscode": {
   "interpreter": {
    "hash": "56a4148d1a741094ed29e920a9b48380b7d6a5c6b7b7c5e82594980d36d20309"
   }
  }
 },
 "nbformat": 4,
 "nbformat_minor": 5
}

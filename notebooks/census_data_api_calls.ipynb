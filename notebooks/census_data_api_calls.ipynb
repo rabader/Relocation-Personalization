{
 "cells": [
  {
   "cell_type": "code",
   "execution_count": 1,
   "metadata": {},
   "outputs": [],
   "source": [
    "import requests\n",
    "import json\n",
    "import ast\n",
    "import pandas as pd"
   ]
  },
  {
   "cell_type": "code",
   "execution_count": 2,
   "metadata": {},
   "outputs": [],
   "source": [
    "import sys\n",
    "sys.path.insert(1, '../')\n",
    "from utils import census_bureau_api as cba"
   ]
  },
  {
   "cell_type": "code",
   "execution_count": 69,
   "metadata": {},
   "outputs": [],
   "source": [
    "# Inputs:\n",
    "dataset = \"saipe\"\n",
    "state = \"*\""
   ]
  },
  {
   "cell_type": "code",
   "execution_count": 71,
   "metadata": {},
   "outputs": [],
   "source": [
    "# for everything except cps data:\n",
    "for year in [str(x) for x in range(2016,2022)]:  \n",
    "    resp = cba.send_and_process_request(dataset=dataset,year=year,state=state)\n",
    "    df = cba.process_response(resp)\n",
    "    df.to_csv(f\"../data/raw/{dataset}_{year}.csv.gz\")"
   ]
  }
 ],
 "metadata": {
  "kernelspec": {
   "display_name": "siads699",
   "language": "python",
   "name": "python3"
  },
  "language_info": {
   "codemirror_mode": {
    "name": "ipython",
    "version": 3
   },
   "file_extension": ".py",
   "mimetype": "text/x-python",
   "name": "python",
   "nbconvert_exporter": "python",
   "pygments_lexer": "ipython3",
   "version": "3.10.8 (main, Nov 24 2022, 08:08:27) [Clang 14.0.6 ]"
  },
  "orig_nbformat": 4,
  "vscode": {
   "interpreter": {
    "hash": "56a4148d1a741094ed29e920a9b48380b7d6a5c6b7b7c5e82594980d36d20309"
   }
  }
 },
 "nbformat": 4,
 "nbformat_minor": 2
}
